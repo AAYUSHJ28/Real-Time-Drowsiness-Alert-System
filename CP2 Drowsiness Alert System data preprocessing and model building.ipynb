{
 "cells": [
  {
   "cell_type": "markdown",
   "id": "1c4821ec",
   "metadata": {},
   "source": [
    "# Import Required Libraries"
   ]
  },
  {
   "cell_type": "code",
   "execution_count": 1,
   "id": "46983b54",
   "metadata": {},
   "outputs": [],
   "source": [
    "import os\n",
    "import numpy as np\n",
    "from tensorflow.keras.preprocessing.image import ImageDataGenerator\n",
    "from sklearn.model_selection import train_test_split\n",
    "import matplotlib.pyplot as plt\n",
    "%matplotlib inline"
   ]
  },
  {
   "cell_type": "markdown",
   "id": "dccf692e",
   "metadata": {},
   "source": [
    "# Data Preparation"
   ]
  },
  {
   "cell_type": "code",
   "execution_count": 3,
   "id": "fdffe83e",
   "metadata": {},
   "outputs": [],
   "source": [
    "# Define paths\n",
    "data_dir = \"C:/Users/HP/OneDrive/Desktop/Projects/Drowsiness_detection_system-main/Dataset\"\n",
    "categories = [\"open_eyes\", \"closed_eyes\"]"
   ]
  },
  {
   "cell_type": "markdown",
   "id": "7bb27a67",
   "metadata": {},
   "source": [
    "# Data Preprocessing"
   ]
  },
  {
   "cell_type": "code",
   "execution_count": 4,
   "id": "96d91124",
   "metadata": {},
   "outputs": [],
   "source": [
    "# Image size\n",
    "IMG_SIZE = (64, 64)"
   ]
  },
  {
   "cell_type": "code",
   "execution_count": 5,
   "id": "6f48e099",
   "metadata": {},
   "outputs": [],
   "source": [
    "import cv2"
   ]
  },
  {
   "cell_type": "code",
   "execution_count": 6,
   "id": "fa2f117a",
   "metadata": {},
   "outputs": [],
   "source": [
    "def load_data():\n",
    "    data = []\n",
    "    labels = []\n",
    "\n",
    "    for category in categories:\n",
    "        path = os.path.join(data_dir, category)\n",
    "        class_num = categories.index(category)  # 0 for open, 1 for closed\n",
    "\n",
    "        for img in os.listdir(path):\n",
    "            img_array = plt.imread(os.path.join(path, img))\n",
    "            img_resized = cv2.resize(img_array, IMG_SIZE)  # Resize to (64, 64)\n",
    "            data.append(img_resized)\n",
    "            labels.append(class_num)\n",
    "\n",
    "    return np.array(data), np.array(labels)\n"
   ]
  },
  {
   "cell_type": "markdown",
   "id": "d0592845",
   "metadata": {},
   "source": [
    "# Creating X and Y"
   ]
  },
  {
   "cell_type": "code",
   "execution_count": 7,
   "id": "380f24fb",
   "metadata": {},
   "outputs": [],
   "source": [
    "X, y = load_data()"
   ]
  },
  {
   "cell_type": "code",
   "execution_count": 8,
   "id": "3cc35933",
   "metadata": {},
   "outputs": [
    {
     "data": {
      "text/plain": [
       "array([[[0.18391737, 0.18988971, 0.19215687, ..., 0.35520837,\n",
       "         0.35764688, 0.35741422],\n",
       "        [0.1764706 , 0.18963121, 0.19381128, ..., 0.36458528,\n",
       "         0.3664455 , 0.36267138],\n",
       "        [0.17420344, 0.1881137 , 0.19525985, ..., 0.36432102,\n",
       "         0.3719363 , 0.36288777],\n",
       "        ...,\n",
       "        [0.23856083, 0.25355488, 0.25813228, ..., 0.2933431 ,\n",
       "         0.30968234, 0.3161554 ],\n",
       "        [0.23976716, 0.24644609, 0.2580892 , ..., 0.28909412,\n",
       "         0.30030638, 0.30840707],\n",
       "        [0.24024108, 0.24981618, 0.26262257, ..., 0.29534313,\n",
       "         0.29954717, 0.3019608 ]],\n",
       "\n",
       "       [[0.11476716, 0.12271609, 0.12444854, ..., 0.34613973,\n",
       "         0.3458264 , 0.34607053],\n",
       "        [0.11455964, 0.11906619, 0.11868466, ..., 0.3555413 ,\n",
       "         0.3512047 , 0.35377532],\n",
       "        [0.11164216, 0.11815569, 0.1220009 , ..., 0.3655501 ,\n",
       "         0.35839054, 0.3565128 ],\n",
       "        ...,\n",
       "        [0.15373775, 0.1751532 , 0.19994903, ..., 0.28674772,\n",
       "         0.30226716, 0.3164345 ],\n",
       "        [0.16130514, 0.18272059, 0.20076187, ..., 0.29022673,\n",
       "         0.3074755 , 0.31712624],\n",
       "        [0.16286765, 0.1842831 , 0.20354506, ..., 0.28794187,\n",
       "         0.2986283 , 0.31577125]],\n",
       "\n",
       "       [[0.11476716, 0.12271609, 0.12444854, ..., 0.34613973,\n",
       "         0.3458264 , 0.34607053],\n",
       "        [0.11455964, 0.11906619, 0.11868466, ..., 0.3555413 ,\n",
       "         0.3512047 , 0.35377532],\n",
       "        [0.11164216, 0.11815569, 0.1220009 , ..., 0.3655501 ,\n",
       "         0.35839054, 0.3565128 ],\n",
       "        ...,\n",
       "        [0.15373775, 0.1751532 , 0.19994903, ..., 0.28674772,\n",
       "         0.30226716, 0.3164345 ],\n",
       "        [0.16130514, 0.18272059, 0.20076187, ..., 0.29022673,\n",
       "         0.3074755 , 0.31712624],\n",
       "        [0.16286765, 0.1842831 , 0.20354506, ..., 0.28794187,\n",
       "         0.2986283 , 0.31577125]],\n",
       "\n",
       "       ...,\n",
       "\n",
       "       [[0.49411765, 0.49240196, 0.4946691 , ..., 0.2721814 ,\n",
       "         0.2624512 , 0.2560049 ],\n",
       "        [0.49914217, 0.4967285 , 0.49803922, ..., 0.27432695,\n",
       "         0.2667519 , 0.26102942],\n",
       "        [0.5017971 , 0.5007966 , 0.5007966 , ..., 0.27726716,\n",
       "         0.2715696 , 0.26605392],\n",
       "        ...,\n",
       "        [0.3579657 , 0.3663603 , 0.3713848 , ..., 0.38982844,\n",
       "         0.37977943, 0.3731005 ],\n",
       "        [0.3579657 , 0.3663603 , 0.3713848 , ..., 0.3859672 ,\n",
       "         0.37882298, 0.3731005 ],\n",
       "        [0.3579657 , 0.3663603 , 0.3713848 , ..., 0.3831495 ,\n",
       "         0.378125  , 0.37020433]],\n",
       "\n",
       "       [[0.30778858, 0.32101718, 0.3349265 , ..., 0.52224267,\n",
       "         0.52224267, 0.52224267],\n",
       "        [0.3048608 , 0.31476814, 0.32618147, ..., 0.5275123 ,\n",
       "         0.5275123 , 0.5258378 ],\n",
       "        [0.3026348 , 0.31194854, 0.32101718, ..., 0.5231455 ,\n",
       "         0.5260417 , 0.525585  ],\n",
       "        ...,\n",
       "        [0.35306373, 0.3563113 , 0.3563113 , ..., 0.38376227,\n",
       "         0.37849265, 0.3764706 ],\n",
       "        [0.34936714, 0.3520211 , 0.3529412 , ..., 0.38376227,\n",
       "         0.37849265, 0.3764706 ],\n",
       "        [0.34633023, 0.34936717, 0.3524845 , ..., 0.3805147 ,\n",
       "         0.37681815, 0.3764706 ]],\n",
       "\n",
       "       [[0.49411765, 0.49411765, 0.49411765, ..., 0.28039217,\n",
       "         0.27549022, 0.27101716],\n",
       "        [0.49558824, 0.49558824, 0.49558824, ..., 0.27640933,\n",
       "         0.27058825, 0.2678309 ],\n",
       "        [0.49803922, 0.49803922, 0.49957108, ..., 0.27395836,\n",
       "         0.26813728, 0.2632353 ],\n",
       "        ...,\n",
       "        [0.3516544 , 0.35441178, 0.36023286, ..., 0.39031863,\n",
       "         0.38541666, 0.38088235],\n",
       "        [0.35196078, 0.35686275, 0.3642157 , ..., 0.39368874,\n",
       "         0.39031863, 0.38149512],\n",
       "        [0.3602941 , 0.36648285, 0.3716912 , ..., 0.39589462,\n",
       "         0.39344364, 0.3908701 ]]], dtype=float32)"
      ]
     },
     "execution_count": 8,
     "metadata": {},
     "output_type": "execute_result"
    }
   ],
   "source": [
    "X"
   ]
  },
  {
   "cell_type": "code",
   "execution_count": 9,
   "id": "f6697c07",
   "metadata": {},
   "outputs": [
    {
     "data": {
      "text/plain": [
       "array([0, 0, 0, ..., 1, 1, 1])"
      ]
     },
     "execution_count": 9,
     "metadata": {},
     "output_type": "execute_result"
    }
   ],
   "source": [
    "y"
   ]
  },
  {
   "cell_type": "code",
   "execution_count": 10,
   "id": "0e66f87b",
   "metadata": {},
   "outputs": [
    {
     "data": {
      "text/plain": [
       "(1018, 64, 64)"
      ]
     },
     "execution_count": 10,
     "metadata": {},
     "output_type": "execute_result"
    }
   ],
   "source": [
    "X.shape"
   ]
  },
  {
   "cell_type": "code",
   "execution_count": 11,
   "id": "5f536ca3",
   "metadata": {},
   "outputs": [
    {
     "data": {
      "text/plain": [
       "(1018,)"
      ]
     },
     "execution_count": 11,
     "metadata": {},
     "output_type": "execute_result"
    }
   ],
   "source": [
    "y.shape"
   ]
  },
  {
   "cell_type": "markdown",
   "id": "d320b14f",
   "metadata": {},
   "source": [
    "## Normalize the image data"
   ]
  },
  {
   "cell_type": "code",
   "execution_count": 12,
   "id": "012493e7",
   "metadata": {},
   "outputs": [],
   "source": [
    "# Normalize the image data\n",
    "X = X / 255.0"
   ]
  },
  {
   "cell_type": "code",
   "execution_count": 13,
   "id": "1d44f38e",
   "metadata": {},
   "outputs": [
    {
     "data": {
      "text/plain": [
       "array([[[0.00072124, 0.00074467, 0.00075356, ..., 0.00139297,\n",
       "         0.00140254, 0.00140162],\n",
       "        [0.00069204, 0.00074365, 0.00076004, ..., 0.00142975,\n",
       "         0.00143704, 0.00142224],\n",
       "        [0.00068315, 0.0007377 , 0.00076572, ..., 0.00142871,\n",
       "         0.00145857, 0.00142309],\n",
       "        ...,\n",
       "        [0.00093553, 0.00099433, 0.00101228, ..., 0.00115037,\n",
       "         0.00121444, 0.00123983],\n",
       "        [0.00094026, 0.00096646, 0.00101211, ..., 0.0011337 ,\n",
       "         0.00117767, 0.00120944],\n",
       "        [0.00094212, 0.00097967, 0.00102989, ..., 0.00115821,\n",
       "         0.00117469, 0.00118416]],\n",
       "\n",
       "       [[0.00045007, 0.00048124, 0.00048803, ..., 0.00135741,\n",
       "         0.00135618, 0.00135714],\n",
       "        [0.00044925, 0.00046693, 0.00046543, ..., 0.00139428,\n",
       "         0.00137727, 0.00138735],\n",
       "        [0.00043781, 0.00046336, 0.00047843, ..., 0.00143353,\n",
       "         0.00140545, 0.00139809],\n",
       "        ...,\n",
       "        [0.00060289, 0.00068688, 0.00078411, ..., 0.0011245 ,\n",
       "         0.00118536, 0.00124092],\n",
       "        [0.00063257, 0.00071655, 0.0007873 , ..., 0.00113814,\n",
       "         0.00120579, 0.00124363],\n",
       "        [0.0006387 , 0.00072268, 0.00079822, ..., 0.00112918,\n",
       "         0.00117109, 0.00123832]],\n",
       "\n",
       "       [[0.00045007, 0.00048124, 0.00048803, ..., 0.00135741,\n",
       "         0.00135618, 0.00135714],\n",
       "        [0.00044925, 0.00046693, 0.00046543, ..., 0.00139428,\n",
       "         0.00137727, 0.00138735],\n",
       "        [0.00043781, 0.00046336, 0.00047843, ..., 0.00143353,\n",
       "         0.00140545, 0.00139809],\n",
       "        ...,\n",
       "        [0.00060289, 0.00068688, 0.00078411, ..., 0.0011245 ,\n",
       "         0.00118536, 0.00124092],\n",
       "        [0.00063257, 0.00071655, 0.0007873 , ..., 0.00113814,\n",
       "         0.00120579, 0.00124363],\n",
       "        [0.0006387 , 0.00072268, 0.00079822, ..., 0.00112918,\n",
       "         0.00117109, 0.00123832]],\n",
       "\n",
       "       ...,\n",
       "\n",
       "       [[0.00193772, 0.00193099, 0.00193988, ..., 0.00106738,\n",
       "         0.00102922, 0.00100394],\n",
       "        [0.00195742, 0.00194795, 0.00195309, ..., 0.00107579,\n",
       "         0.00104609, 0.00102364],\n",
       "        [0.00196783, 0.00196391, 0.00196391, ..., 0.00108732,\n",
       "         0.00106498, 0.00104335],\n",
       "        ...,\n",
       "        [0.00140379, 0.00143671, 0.00145641, ..., 0.00152874,\n",
       "         0.00148933, 0.00146314],\n",
       "        [0.00140379, 0.00143671, 0.00145641, ..., 0.0015136 ,\n",
       "         0.00148558, 0.00146314],\n",
       "        [0.00140379, 0.00143671, 0.00145641, ..., 0.00150255,\n",
       "         0.00148284, 0.00145178]],\n",
       "\n",
       "       [[0.00120701, 0.00125889, 0.00131344, ..., 0.00204801,\n",
       "         0.00204801, 0.00204801],\n",
       "        [0.00119553, 0.00123438, 0.00127914, ..., 0.00206868,\n",
       "         0.00206868, 0.00206211],\n",
       "        [0.0011868 , 0.00122333, 0.00125889, ..., 0.00205155,\n",
       "         0.00206291, 0.00206112],\n",
       "        ...,\n",
       "        [0.00138456, 0.0013973 , 0.0013973 , ..., 0.00150495,\n",
       "         0.00148428, 0.00147636],\n",
       "        [0.00137007, 0.00138047, 0.00138408, ..., 0.00150495,\n",
       "         0.00148428, 0.00147636],\n",
       "        [0.00135816, 0.00137007, 0.00138229, ..., 0.00149221,\n",
       "         0.00147772, 0.00147636]],\n",
       "\n",
       "       [[0.00193772, 0.00193772, 0.00193772, ..., 0.00109958,\n",
       "         0.00108035, 0.00106281],\n",
       "        [0.00194348, 0.00194348, 0.00194348, ..., 0.00108396,\n",
       "         0.00106113, 0.00105032],\n",
       "        [0.00195309, 0.00195309, 0.0019591 , ..., 0.00107435,\n",
       "         0.00105152, 0.0010323 ],\n",
       "        ...,\n",
       "        [0.00137904, 0.00138985, 0.00141268, ..., 0.00153066,\n",
       "         0.00151144, 0.00149366],\n",
       "        [0.00138024, 0.00139946, 0.0014283 , ..., 0.00154388,\n",
       "         0.00153066, 0.00149606],\n",
       "        [0.00141292, 0.00143719, 0.00145761, ..., 0.00155253,\n",
       "         0.00154292, 0.00153282]]], dtype=float32)"
      ]
     },
     "execution_count": 13,
     "metadata": {},
     "output_type": "execute_result"
    }
   ],
   "source": [
    "X"
   ]
  },
  {
   "cell_type": "markdown",
   "id": "a92d6fa7",
   "metadata": {},
   "source": [
    "# Train-validation-test split (splitting data in 3 sets)"
   ]
  },
  {
   "cell_type": "code",
   "execution_count": 14,
   "id": "5e869741",
   "metadata": {},
   "outputs": [],
   "source": [
    "from sklearn.model_selection import train_test_split\n",
    "\n",
    "# Split into train, validation, and test sets\n",
    "X_train, X_temp, y_train, y_temp = train_test_split(X, y, test_size=0.3, random_state=42)\n",
    "X_val, X_test, y_val, y_test = train_test_split(X_temp, y_temp, test_size=0.5, random_state=42)"
   ]
  },
  {
   "cell_type": "code",
   "execution_count": 15,
   "id": "620c124b",
   "metadata": {},
   "outputs": [],
   "source": [
    "# Reshape images for CNN input (grayscale images, single channel)\n",
    "X_train = X_train.reshape(-1, 64, 64, 1)\n",
    "X_val = X_val.reshape(-1, 64, 64, 1)\n",
    "X_test = X_test.reshape(-1, 64, 64, 1)"
   ]
  },
  {
   "cell_type": "code",
   "execution_count": 16,
   "id": "b64b157a",
   "metadata": {},
   "outputs": [
    {
     "name": "stdout",
     "output_type": "stream",
     "text": [
      "(712, 64, 64, 1)\n",
      "(712,)\n",
      "(153, 64, 64, 1)\n",
      "(153,)\n"
     ]
    }
   ],
   "source": [
    "print(X_train.shape)\n",
    "print(y_train.shape)\n",
    "print(X_val.shape)\n",
    "print(y_val.shape)"
   ]
  },
  {
   "cell_type": "code",
   "execution_count": 17,
   "id": "abddd5c0",
   "metadata": {},
   "outputs": [
    {
     "name": "stdout",
     "output_type": "stream",
     "text": [
      "(153, 64, 64, 1)\n",
      "(153,)\n"
     ]
    }
   ],
   "source": [
    "print(X_test.shape)\n",
    "print(y_test.shape)"
   ]
  },
  {
   "cell_type": "code",
   "execution_count": 18,
   "id": "316c7ddb",
   "metadata": {},
   "outputs": [
    {
     "data": {
      "text/plain": [
       "array([1, 1, 0, 1, 0, 0, 0, 1, 0, 0, 1, 1, 1, 1, 1, 1, 0, 1, 1, 1, 0, 1,\n",
       "       1, 1, 1, 1, 0, 0, 1, 0, 0, 0, 0, 0, 0, 1, 0, 1, 1, 0, 1, 0, 1, 1,\n",
       "       1, 0, 0, 1, 1, 0, 1, 0, 1, 0, 0, 1, 0, 1, 1, 0, 1, 0, 0, 0, 1, 0,\n",
       "       0, 0, 0, 0, 0, 0, 1, 1, 1, 0, 1, 0, 0, 1, 0, 1, 1, 0, 1, 0, 0, 0,\n",
       "       1, 0, 0, 1, 1, 0, 0, 1, 0, 0, 0, 1, 0, 1, 0, 1, 0, 0, 1, 0, 1, 0,\n",
       "       0, 0, 1, 1, 0, 1, 0, 1, 1, 1, 1, 0, 0, 0, 1, 1, 1, 0, 1, 1, 1, 0,\n",
       "       1, 0, 0, 1, 0, 1, 0, 0, 0, 0, 1, 0, 0, 0, 0, 0, 0, 0, 0, 0, 1, 1,\n",
       "       0, 1, 1, 1, 1, 0, 1, 1, 0, 1, 1, 1, 0, 1, 0, 0, 0, 1, 1, 1, 0, 0,\n",
       "       0, 0, 1, 1, 0, 0, 0, 0, 0, 0, 0, 0, 1, 0, 0, 1, 1, 1, 1, 1, 1, 1,\n",
       "       0, 0, 0, 1, 0, 0, 0, 0, 0, 1, 0, 1, 1, 1, 1, 0, 0, 0, 1, 0, 1, 0,\n",
       "       0, 1, 1, 0, 0, 1, 1, 0, 0, 1, 1, 0, 1, 0, 1, 0, 1, 0, 1, 0, 0, 0,\n",
       "       1, 0, 0, 0, 0, 0, 0, 1, 1, 1, 1, 0, 0, 0, 1, 0, 1, 1, 0, 0, 0, 0,\n",
       "       0, 1, 1, 1, 1, 0, 0, 1, 0, 0, 1, 1, 0, 0, 1, 1, 0, 0, 1, 0, 0, 0,\n",
       "       1, 0, 0, 1, 1, 1, 0, 1, 1, 0, 0, 0, 1, 1, 1, 1, 0, 0, 1, 1, 1, 0,\n",
       "       0, 0, 0, 1, 1, 0, 0, 1, 1, 0, 0, 1, 1, 1, 1, 1, 1, 1, 0, 1, 0, 1,\n",
       "       0, 0, 1, 0, 1, 1, 1, 1, 0, 0, 1, 1, 0, 0, 1, 0, 1, 0, 0, 0, 1, 0,\n",
       "       0, 1, 1, 1, 1, 0, 1, 1, 0, 1, 1, 1, 1, 0, 1, 0, 1, 1, 1, 0, 0, 1,\n",
       "       0, 0, 0, 1, 1, 1, 1, 0, 0, 0, 0, 1, 0, 1, 1, 1, 0, 1, 0, 0, 1, 0,\n",
       "       0, 1, 1, 1, 1, 1, 0, 1, 0, 0, 0, 1, 1, 1, 1, 1, 0, 1, 0, 0, 1, 1,\n",
       "       1, 1, 0, 0, 0, 0, 0, 1, 1, 0, 1, 0, 1, 0, 0, 0, 0, 0, 0, 0, 0, 0,\n",
       "       1, 1, 1, 1, 1, 0, 1, 0, 1, 1, 1, 1, 0, 1, 1, 1, 1, 1, 1, 1, 1, 0,\n",
       "       1, 1, 0, 1, 0, 0, 0, 1, 0, 1, 1, 1, 0, 1, 1, 0, 1, 1, 0, 1, 0, 1,\n",
       "       1, 0, 0, 1, 1, 1, 0, 0, 0, 0, 1, 1, 0, 0, 0, 1, 1, 1, 1, 1, 1, 1,\n",
       "       1, 1, 1, 1, 1, 1, 1, 0, 0, 1, 0, 1, 0, 1, 0, 1, 1, 1, 1, 1, 1, 0,\n",
       "       1, 0, 1, 1, 1, 0, 1, 1, 0, 0, 1, 0, 1, 1, 0, 0, 1, 1, 1, 1, 1, 1,\n",
       "       1, 1, 0, 1, 1, 1, 0, 0, 0, 0, 1, 1, 0, 0, 0, 1, 0, 0, 1, 0, 0, 0,\n",
       "       1, 0, 1, 0, 0, 0, 0, 1, 0, 1, 1, 1, 1, 0, 1, 0, 0, 0, 0, 0, 0, 1,\n",
       "       0, 1, 0, 1, 0, 1, 1, 1, 0, 1, 0, 1, 0, 0, 1, 1, 1, 0, 0, 0, 1, 1,\n",
       "       0, 1, 0, 1, 1, 0, 1, 0, 0, 1, 1, 1, 1, 0, 0, 0, 1, 0, 0, 0, 0, 0,\n",
       "       0, 1, 1, 0, 1, 0, 0, 0, 1, 0, 0, 0, 1, 1, 1, 1, 0, 1, 0, 1, 0, 1,\n",
       "       1, 1, 1, 1, 1, 0, 1, 1, 0, 1, 1, 0, 0, 1, 1, 1, 0, 0, 0, 0, 0, 0,\n",
       "       1, 0, 0, 1, 0, 0, 0, 1, 0, 1, 0, 1, 1, 0, 0, 0, 0, 0, 0, 0, 0, 1,\n",
       "       0, 1, 0, 0, 0, 1, 0, 0])"
      ]
     },
     "execution_count": 18,
     "metadata": {},
     "output_type": "execute_result"
    }
   ],
   "source": [
    "y_train"
   ]
  },
  {
   "cell_type": "markdown",
   "id": "1d9d174b",
   "metadata": {},
   "source": [
    "# Building a CNN (Convolutional Neural Network) model"
   ]
  },
  {
   "cell_type": "code",
   "execution_count": 19,
   "id": "2fe140df",
   "metadata": {},
   "outputs": [],
   "source": [
    "import tensorflow as tf\n",
    "from tensorflow.keras.models import Sequential\n",
    "from tensorflow.keras.layers import Conv2D, MaxPooling2D, Flatten, Dense, Dropout\n",
    "from tensorflow.keras.optimizers import Adam\n",
    "\n",
    "# we have already loaded and preprocessed your data\n",
    "# X is your input data, y is your labels\n",
    "# X should have shape (num_samples, img_height, img_width, num_channels)\n",
    "# y should be binary (0 for closed eyes, 1 for open eyes)\n",
    "\n",
    "# Example dataset shape after preprocessing\n",
    "# X_train, X_test, y_train, y_test are the split datasets for training and testing"
   ]
  },
  {
   "cell_type": "markdown",
   "id": "fbb2bcbd",
   "metadata": {},
   "source": [
    "## Define Model Architecture"
   ]
  },
  {
   "cell_type": "code",
   "execution_count": 20,
   "id": "4ae22442",
   "metadata": {},
   "outputs": [
    {
     "name": "stderr",
     "output_type": "stream",
     "text": [
      "C:\\Users\\HP\\anaconda3\\Lib\\site-packages\\keras\\src\\layers\\convolutional\\base_conv.py:107: UserWarning: Do not pass an `input_shape`/`input_dim` argument to a layer. When using Sequential models, prefer using an `Input(shape)` object as the first layer in the model instead.\n",
      "  super().__init__(activity_regularizer=activity_regularizer, **kwargs)\n"
     ]
    }
   ],
   "source": [
    "# Model Architecture\n",
    "model = Sequential()\n",
    "\n",
    "# 1st Convolutional Layer\n",
    "model.add(Conv2D(32, (3, 3), activation='relu', input_shape=(64, 64, 1), padding='same'))  # Grayscale images\n",
    "model.add(MaxPooling2D(pool_size=(2, 2)))\n",
    "\n",
    "# 2nd Convolutional Layer\n",
    "model.add(Conv2D(64, (3, 3), activation='relu', padding='same'))\n",
    "model.add(MaxPooling2D(pool_size=(2, 2)))\n",
    "\n",
    "# 3rd Convolutional Layer\n",
    "model.add(Conv2D(64, (3, 3), activation='relu', padding='same'))\n",
    "model.add(MaxPooling2D(pool_size=(2, 2)))\n",
    "\n",
    "# Flattening the layers\n",
    "model.add(Flatten())\n",
    "\n",
    "# Fully connected layer\n",
    "model.add(Dense(128, activation='relu'))\n",
    "\n",
    "# Dropout to reduce overfitting\n",
    "model.add(Dropout(0.5))\n",
    "\n",
    "# Output layer with sigmoid activation for binary classification\n",
    "model.add(Dense(1, activation='sigmoid'))"
   ]
  },
  {
   "cell_type": "markdown",
   "id": "9df99ea3",
   "metadata": {},
   "source": [
    "## Compile the model"
   ]
  },
  {
   "cell_type": "code",
   "execution_count": 21,
   "id": "332e3c82",
   "metadata": {},
   "outputs": [],
   "source": [
    "# Compile the model\n",
    "model.compile(optimizer=Adam(learning_rate=0.001), loss='binary_crossentropy', metrics=['accuracy'])"
   ]
  },
  {
   "cell_type": "code",
   "execution_count": 22,
   "id": "e825fe4d",
   "metadata": {},
   "outputs": [
    {
     "data": {
      "text/html": [
       "<pre style=\"white-space:pre;overflow-x:auto;line-height:normal;font-family:Menlo,'DejaVu Sans Mono',consolas,'Courier New',monospace\"><span style=\"font-weight: bold\">Model: \"sequential\"</span>\n",
       "</pre>\n"
      ],
      "text/plain": [
       "\u001b[1mModel: \"sequential\"\u001b[0m\n"
      ]
     },
     "metadata": {},
     "output_type": "display_data"
    },
    {
     "data": {
      "text/html": [
       "<pre style=\"white-space:pre;overflow-x:auto;line-height:normal;font-family:Menlo,'DejaVu Sans Mono',consolas,'Courier New',monospace\">┏━━━━━━━━━━━━━━━━━━━━━━━━━━━━━━━━━━━━━━┳━━━━━━━━━━━━━━━━━━━━━━━━━━━━━┳━━━━━━━━━━━━━━━━━┓\n",
       "┃<span style=\"font-weight: bold\"> Layer (type)                         </span>┃<span style=\"font-weight: bold\"> Output Shape                </span>┃<span style=\"font-weight: bold\">         Param # </span>┃\n",
       "┡━━━━━━━━━━━━━━━━━━━━━━━━━━━━━━━━━━━━━━╇━━━━━━━━━━━━━━━━━━━━━━━━━━━━━╇━━━━━━━━━━━━━━━━━┩\n",
       "│ conv2d (<span style=\"color: #0087ff; text-decoration-color: #0087ff\">Conv2D</span>)                      │ (<span style=\"color: #00d7ff; text-decoration-color: #00d7ff\">None</span>, <span style=\"color: #00af00; text-decoration-color: #00af00\">64</span>, <span style=\"color: #00af00; text-decoration-color: #00af00\">64</span>, <span style=\"color: #00af00; text-decoration-color: #00af00\">32</span>)          │             <span style=\"color: #00af00; text-decoration-color: #00af00\">320</span> │\n",
       "├──────────────────────────────────────┼─────────────────────────────┼─────────────────┤\n",
       "│ max_pooling2d (<span style=\"color: #0087ff; text-decoration-color: #0087ff\">MaxPooling2D</span>)         │ (<span style=\"color: #00d7ff; text-decoration-color: #00d7ff\">None</span>, <span style=\"color: #00af00; text-decoration-color: #00af00\">32</span>, <span style=\"color: #00af00; text-decoration-color: #00af00\">32</span>, <span style=\"color: #00af00; text-decoration-color: #00af00\">32</span>)          │               <span style=\"color: #00af00; text-decoration-color: #00af00\">0</span> │\n",
       "├──────────────────────────────────────┼─────────────────────────────┼─────────────────┤\n",
       "│ conv2d_1 (<span style=\"color: #0087ff; text-decoration-color: #0087ff\">Conv2D</span>)                    │ (<span style=\"color: #00d7ff; text-decoration-color: #00d7ff\">None</span>, <span style=\"color: #00af00; text-decoration-color: #00af00\">32</span>, <span style=\"color: #00af00; text-decoration-color: #00af00\">32</span>, <span style=\"color: #00af00; text-decoration-color: #00af00\">64</span>)          │          <span style=\"color: #00af00; text-decoration-color: #00af00\">18,496</span> │\n",
       "├──────────────────────────────────────┼─────────────────────────────┼─────────────────┤\n",
       "│ max_pooling2d_1 (<span style=\"color: #0087ff; text-decoration-color: #0087ff\">MaxPooling2D</span>)       │ (<span style=\"color: #00d7ff; text-decoration-color: #00d7ff\">None</span>, <span style=\"color: #00af00; text-decoration-color: #00af00\">16</span>, <span style=\"color: #00af00; text-decoration-color: #00af00\">16</span>, <span style=\"color: #00af00; text-decoration-color: #00af00\">64</span>)          │               <span style=\"color: #00af00; text-decoration-color: #00af00\">0</span> │\n",
       "├──────────────────────────────────────┼─────────────────────────────┼─────────────────┤\n",
       "│ conv2d_2 (<span style=\"color: #0087ff; text-decoration-color: #0087ff\">Conv2D</span>)                    │ (<span style=\"color: #00d7ff; text-decoration-color: #00d7ff\">None</span>, <span style=\"color: #00af00; text-decoration-color: #00af00\">16</span>, <span style=\"color: #00af00; text-decoration-color: #00af00\">16</span>, <span style=\"color: #00af00; text-decoration-color: #00af00\">64</span>)          │          <span style=\"color: #00af00; text-decoration-color: #00af00\">36,928</span> │\n",
       "├──────────────────────────────────────┼─────────────────────────────┼─────────────────┤\n",
       "│ max_pooling2d_2 (<span style=\"color: #0087ff; text-decoration-color: #0087ff\">MaxPooling2D</span>)       │ (<span style=\"color: #00d7ff; text-decoration-color: #00d7ff\">None</span>, <span style=\"color: #00af00; text-decoration-color: #00af00\">8</span>, <span style=\"color: #00af00; text-decoration-color: #00af00\">8</span>, <span style=\"color: #00af00; text-decoration-color: #00af00\">64</span>)            │               <span style=\"color: #00af00; text-decoration-color: #00af00\">0</span> │\n",
       "├──────────────────────────────────────┼─────────────────────────────┼─────────────────┤\n",
       "│ flatten (<span style=\"color: #0087ff; text-decoration-color: #0087ff\">Flatten</span>)                    │ (<span style=\"color: #00d7ff; text-decoration-color: #00d7ff\">None</span>, <span style=\"color: #00af00; text-decoration-color: #00af00\">4096</span>)                │               <span style=\"color: #00af00; text-decoration-color: #00af00\">0</span> │\n",
       "├──────────────────────────────────────┼─────────────────────────────┼─────────────────┤\n",
       "│ dense (<span style=\"color: #0087ff; text-decoration-color: #0087ff\">Dense</span>)                        │ (<span style=\"color: #00d7ff; text-decoration-color: #00d7ff\">None</span>, <span style=\"color: #00af00; text-decoration-color: #00af00\">128</span>)                 │         <span style=\"color: #00af00; text-decoration-color: #00af00\">524,416</span> │\n",
       "├──────────────────────────────────────┼─────────────────────────────┼─────────────────┤\n",
       "│ dropout (<span style=\"color: #0087ff; text-decoration-color: #0087ff\">Dropout</span>)                    │ (<span style=\"color: #00d7ff; text-decoration-color: #00d7ff\">None</span>, <span style=\"color: #00af00; text-decoration-color: #00af00\">128</span>)                 │               <span style=\"color: #00af00; text-decoration-color: #00af00\">0</span> │\n",
       "├──────────────────────────────────────┼─────────────────────────────┼─────────────────┤\n",
       "│ dense_1 (<span style=\"color: #0087ff; text-decoration-color: #0087ff\">Dense</span>)                      │ (<span style=\"color: #00d7ff; text-decoration-color: #00d7ff\">None</span>, <span style=\"color: #00af00; text-decoration-color: #00af00\">1</span>)                   │             <span style=\"color: #00af00; text-decoration-color: #00af00\">129</span> │\n",
       "└──────────────────────────────────────┴─────────────────────────────┴─────────────────┘\n",
       "</pre>\n"
      ],
      "text/plain": [
       "┏━━━━━━━━━━━━━━━━━━━━━━━━━━━━━━━━━━━━━━┳━━━━━━━━━━━━━━━━━━━━━━━━━━━━━┳━━━━━━━━━━━━━━━━━┓\n",
       "┃\u001b[1m \u001b[0m\u001b[1mLayer (type)                        \u001b[0m\u001b[1m \u001b[0m┃\u001b[1m \u001b[0m\u001b[1mOutput Shape               \u001b[0m\u001b[1m \u001b[0m┃\u001b[1m \u001b[0m\u001b[1m        Param #\u001b[0m\u001b[1m \u001b[0m┃\n",
       "┡━━━━━━━━━━━━━━━━━━━━━━━━━━━━━━━━━━━━━━╇━━━━━━━━━━━━━━━━━━━━━━━━━━━━━╇━━━━━━━━━━━━━━━━━┩\n",
       "│ conv2d (\u001b[38;5;33mConv2D\u001b[0m)                      │ (\u001b[38;5;45mNone\u001b[0m, \u001b[38;5;34m64\u001b[0m, \u001b[38;5;34m64\u001b[0m, \u001b[38;5;34m32\u001b[0m)          │             \u001b[38;5;34m320\u001b[0m │\n",
       "├──────────────────────────────────────┼─────────────────────────────┼─────────────────┤\n",
       "│ max_pooling2d (\u001b[38;5;33mMaxPooling2D\u001b[0m)         │ (\u001b[38;5;45mNone\u001b[0m, \u001b[38;5;34m32\u001b[0m, \u001b[38;5;34m32\u001b[0m, \u001b[38;5;34m32\u001b[0m)          │               \u001b[38;5;34m0\u001b[0m │\n",
       "├──────────────────────────────────────┼─────────────────────────────┼─────────────────┤\n",
       "│ conv2d_1 (\u001b[38;5;33mConv2D\u001b[0m)                    │ (\u001b[38;5;45mNone\u001b[0m, \u001b[38;5;34m32\u001b[0m, \u001b[38;5;34m32\u001b[0m, \u001b[38;5;34m64\u001b[0m)          │          \u001b[38;5;34m18,496\u001b[0m │\n",
       "├──────────────────────────────────────┼─────────────────────────────┼─────────────────┤\n",
       "│ max_pooling2d_1 (\u001b[38;5;33mMaxPooling2D\u001b[0m)       │ (\u001b[38;5;45mNone\u001b[0m, \u001b[38;5;34m16\u001b[0m, \u001b[38;5;34m16\u001b[0m, \u001b[38;5;34m64\u001b[0m)          │               \u001b[38;5;34m0\u001b[0m │\n",
       "├──────────────────────────────────────┼─────────────────────────────┼─────────────────┤\n",
       "│ conv2d_2 (\u001b[38;5;33mConv2D\u001b[0m)                    │ (\u001b[38;5;45mNone\u001b[0m, \u001b[38;5;34m16\u001b[0m, \u001b[38;5;34m16\u001b[0m, \u001b[38;5;34m64\u001b[0m)          │          \u001b[38;5;34m36,928\u001b[0m │\n",
       "├──────────────────────────────────────┼─────────────────────────────┼─────────────────┤\n",
       "│ max_pooling2d_2 (\u001b[38;5;33mMaxPooling2D\u001b[0m)       │ (\u001b[38;5;45mNone\u001b[0m, \u001b[38;5;34m8\u001b[0m, \u001b[38;5;34m8\u001b[0m, \u001b[38;5;34m64\u001b[0m)            │               \u001b[38;5;34m0\u001b[0m │\n",
       "├──────────────────────────────────────┼─────────────────────────────┼─────────────────┤\n",
       "│ flatten (\u001b[38;5;33mFlatten\u001b[0m)                    │ (\u001b[38;5;45mNone\u001b[0m, \u001b[38;5;34m4096\u001b[0m)                │               \u001b[38;5;34m0\u001b[0m │\n",
       "├──────────────────────────────────────┼─────────────────────────────┼─────────────────┤\n",
       "│ dense (\u001b[38;5;33mDense\u001b[0m)                        │ (\u001b[38;5;45mNone\u001b[0m, \u001b[38;5;34m128\u001b[0m)                 │         \u001b[38;5;34m524,416\u001b[0m │\n",
       "├──────────────────────────────────────┼─────────────────────────────┼─────────────────┤\n",
       "│ dropout (\u001b[38;5;33mDropout\u001b[0m)                    │ (\u001b[38;5;45mNone\u001b[0m, \u001b[38;5;34m128\u001b[0m)                 │               \u001b[38;5;34m0\u001b[0m │\n",
       "├──────────────────────────────────────┼─────────────────────────────┼─────────────────┤\n",
       "│ dense_1 (\u001b[38;5;33mDense\u001b[0m)                      │ (\u001b[38;5;45mNone\u001b[0m, \u001b[38;5;34m1\u001b[0m)                   │             \u001b[38;5;34m129\u001b[0m │\n",
       "└──────────────────────────────────────┴─────────────────────────────┴─────────────────┘\n"
      ]
     },
     "metadata": {},
     "output_type": "display_data"
    },
    {
     "data": {
      "text/html": [
       "<pre style=\"white-space:pre;overflow-x:auto;line-height:normal;font-family:Menlo,'DejaVu Sans Mono',consolas,'Courier New',monospace\"><span style=\"font-weight: bold\"> Total params: </span><span style=\"color: #00af00; text-decoration-color: #00af00\">580,289</span> (2.21 MB)\n",
       "</pre>\n"
      ],
      "text/plain": [
       "\u001b[1m Total params: \u001b[0m\u001b[38;5;34m580,289\u001b[0m (2.21 MB)\n"
      ]
     },
     "metadata": {},
     "output_type": "display_data"
    },
    {
     "data": {
      "text/html": [
       "<pre style=\"white-space:pre;overflow-x:auto;line-height:normal;font-family:Menlo,'DejaVu Sans Mono',consolas,'Courier New',monospace\"><span style=\"font-weight: bold\"> Trainable params: </span><span style=\"color: #00af00; text-decoration-color: #00af00\">580,289</span> (2.21 MB)\n",
       "</pre>\n"
      ],
      "text/plain": [
       "\u001b[1m Trainable params: \u001b[0m\u001b[38;5;34m580,289\u001b[0m (2.21 MB)\n"
      ]
     },
     "metadata": {},
     "output_type": "display_data"
    },
    {
     "data": {
      "text/html": [
       "<pre style=\"white-space:pre;overflow-x:auto;line-height:normal;font-family:Menlo,'DejaVu Sans Mono',consolas,'Courier New',monospace\"><span style=\"font-weight: bold\"> Non-trainable params: </span><span style=\"color: #00af00; text-decoration-color: #00af00\">0</span> (0.00 B)\n",
       "</pre>\n"
      ],
      "text/plain": [
       "\u001b[1m Non-trainable params: \u001b[0m\u001b[38;5;34m0\u001b[0m (0.00 B)\n"
      ]
     },
     "metadata": {},
     "output_type": "display_data"
    }
   ],
   "source": [
    "# view model summary\n",
    "model.summary()"
   ]
  },
  {
   "cell_type": "markdown",
   "id": "6c8597d4",
   "metadata": {},
   "source": [
    "## Train the model"
   ]
  },
  {
   "cell_type": "code",
   "execution_count": 23,
   "id": "56064b11",
   "metadata": {},
   "outputs": [
    {
     "name": "stdout",
     "output_type": "stream",
     "text": [
      "Epoch 1/25\n",
      "\u001b[1m23/23\u001b[0m \u001b[32m━━━━━━━━━━━━━━━━━━━━\u001b[0m\u001b[37m\u001b[0m \u001b[1m8s\u001b[0m 173ms/step - accuracy: 0.4804 - loss: 0.6936 - val_accuracy: 0.5490 - val_loss: 0.6931\n",
      "Epoch 2/25\n",
      "\u001b[1m23/23\u001b[0m \u001b[32m━━━━━━━━━━━━━━━━━━━━\u001b[0m\u001b[37m\u001b[0m \u001b[1m5s\u001b[0m 148ms/step - accuracy: 0.5072 - loss: 0.6932 - val_accuracy: 0.5490 - val_loss: 0.6931\n",
      "Epoch 3/25\n",
      "\u001b[1m23/23\u001b[0m \u001b[32m━━━━━━━━━━━━━━━━━━━━\u001b[0m\u001b[37m\u001b[0m \u001b[1m5s\u001b[0m 147ms/step - accuracy: 0.4870 - loss: 0.6932 - val_accuracy: 0.4510 - val_loss: 0.6932\n",
      "Epoch 4/25\n",
      "\u001b[1m23/23\u001b[0m \u001b[32m━━━━━━━━━━━━━━━━━━━━\u001b[0m\u001b[37m\u001b[0m \u001b[1m5s\u001b[0m 149ms/step - accuracy: 0.4837 - loss: 0.6932 - val_accuracy: 0.5490 - val_loss: 0.6930\n",
      "Epoch 5/25\n",
      "\u001b[1m23/23\u001b[0m \u001b[32m━━━━━━━━━━━━━━━━━━━━\u001b[0m\u001b[37m\u001b[0m \u001b[1m3s\u001b[0m 150ms/step - accuracy: 0.5036 - loss: 0.6932 - val_accuracy: 0.4510 - val_loss: 0.6933\n",
      "Epoch 6/25\n",
      "\u001b[1m23/23\u001b[0m \u001b[32m━━━━━━━━━━━━━━━━━━━━\u001b[0m\u001b[37m\u001b[0m \u001b[1m3s\u001b[0m 147ms/step - accuracy: 0.4939 - loss: 0.6931 - val_accuracy: 0.4510 - val_loss: 0.6934\n",
      "Epoch 7/25\n",
      "\u001b[1m23/23\u001b[0m \u001b[32m━━━━━━━━━━━━━━━━━━━━\u001b[0m\u001b[37m\u001b[0m \u001b[1m5s\u001b[0m 149ms/step - accuracy: 0.5043 - loss: 0.6932 - val_accuracy: 0.4510 - val_loss: 0.6933\n",
      "Epoch 8/25\n",
      "\u001b[1m23/23\u001b[0m \u001b[32m━━━━━━━━━━━━━━━━━━━━\u001b[0m\u001b[37m\u001b[0m \u001b[1m5s\u001b[0m 146ms/step - accuracy: 0.5048 - loss: 0.6931 - val_accuracy: 0.4510 - val_loss: 0.6935\n",
      "Epoch 9/25\n",
      "\u001b[1m23/23\u001b[0m \u001b[32m━━━━━━━━━━━━━━━━━━━━\u001b[0m\u001b[37m\u001b[0m \u001b[1m6s\u001b[0m 159ms/step - accuracy: 0.4983 - loss: 0.6932 - val_accuracy: 0.4510 - val_loss: 0.6936\n",
      "Epoch 10/25\n",
      "\u001b[1m23/23\u001b[0m \u001b[32m━━━━━━━━━━━━━━━━━━━━\u001b[0m\u001b[37m\u001b[0m \u001b[1m5s\u001b[0m 146ms/step - accuracy: 0.5332 - loss: 0.6929 - val_accuracy: 0.4510 - val_loss: 0.6934\n",
      "Epoch 11/25\n",
      "\u001b[1m23/23\u001b[0m \u001b[32m━━━━━━━━━━━━━━━━━━━━\u001b[0m\u001b[37m\u001b[0m \u001b[1m5s\u001b[0m 150ms/step - accuracy: 0.5083 - loss: 0.6933 - val_accuracy: 0.4510 - val_loss: 0.6934\n",
      "Epoch 12/25\n",
      "\u001b[1m23/23\u001b[0m \u001b[32m━━━━━━━━━━━━━━━━━━━━\u001b[0m\u001b[37m\u001b[0m \u001b[1m5s\u001b[0m 151ms/step - accuracy: 0.4741 - loss: 0.6933 - val_accuracy: 0.5490 - val_loss: 0.6931\n",
      "Epoch 13/25\n",
      "\u001b[1m23/23\u001b[0m \u001b[32m━━━━━━━━━━━━━━━━━━━━\u001b[0m\u001b[37m\u001b[0m \u001b[1m5s\u001b[0m 147ms/step - accuracy: 0.5143 - loss: 0.6931 - val_accuracy: 0.5490 - val_loss: 0.6930\n",
      "Epoch 14/25\n",
      "\u001b[1m23/23\u001b[0m \u001b[32m━━━━━━━━━━━━━━━━━━━━\u001b[0m\u001b[37m\u001b[0m \u001b[1m5s\u001b[0m 150ms/step - accuracy: 0.5075 - loss: 0.6931 - val_accuracy: 0.4510 - val_loss: 0.6933\n",
      "Epoch 15/25\n",
      "\u001b[1m23/23\u001b[0m \u001b[32m━━━━━━━━━━━━━━━━━━━━\u001b[0m\u001b[37m\u001b[0m \u001b[1m6s\u001b[0m 174ms/step - accuracy: 0.4539 - loss: 0.6934 - val_accuracy: 0.4510 - val_loss: 0.6933\n",
      "Epoch 16/25\n",
      "\u001b[1m23/23\u001b[0m \u001b[32m━━━━━━━━━━━━━━━━━━━━\u001b[0m\u001b[37m\u001b[0m \u001b[1m5s\u001b[0m 156ms/step - accuracy: 0.4824 - loss: 0.6933 - val_accuracy: 0.4510 - val_loss: 0.6932\n",
      "Epoch 17/25\n",
      "\u001b[1m23/23\u001b[0m \u001b[32m━━━━━━━━━━━━━━━━━━━━\u001b[0m\u001b[37m\u001b[0m \u001b[1m6s\u001b[0m 171ms/step - accuracy: 0.5045 - loss: 0.6932 - val_accuracy: 0.4510 - val_loss: 0.6935\n",
      "Epoch 18/25\n",
      "\u001b[1m23/23\u001b[0m \u001b[32m━━━━━━━━━━━━━━━━━━━━\u001b[0m\u001b[37m\u001b[0m \u001b[1m5s\u001b[0m 168ms/step - accuracy: 0.4688 - loss: 0.6934 - val_accuracy: 0.4510 - val_loss: 0.6933\n",
      "Epoch 19/25\n",
      "\u001b[1m23/23\u001b[0m \u001b[32m━━━━━━━━━━━━━━━━━━━━\u001b[0m\u001b[37m\u001b[0m \u001b[1m5s\u001b[0m 142ms/step - accuracy: 0.4991 - loss: 0.6931 - val_accuracy: 0.4510 - val_loss: 0.6935\n",
      "Epoch 20/25\n",
      "\u001b[1m23/23\u001b[0m \u001b[32m━━━━━━━━━━━━━━━━━━━━\u001b[0m\u001b[37m\u001b[0m \u001b[1m3s\u001b[0m 133ms/step - accuracy: 0.4655 - loss: 0.6933 - val_accuracy: 0.4510 - val_loss: 0.6932\n",
      "Epoch 21/25\n",
      "\u001b[1m23/23\u001b[0m \u001b[32m━━━━━━━━━━━━━━━━━━━━\u001b[0m\u001b[37m\u001b[0m \u001b[1m3s\u001b[0m 129ms/step - accuracy: 0.4605 - loss: 0.6933 - val_accuracy: 0.4510 - val_loss: 0.6935\n",
      "Epoch 22/25\n",
      "\u001b[1m23/23\u001b[0m \u001b[32m━━━━━━━━━━━━━━━━━━━━\u001b[0m\u001b[37m\u001b[0m \u001b[1m5s\u001b[0m 129ms/step - accuracy: 0.5034 - loss: 0.6931 - val_accuracy: 0.4510 - val_loss: 0.6935\n",
      "Epoch 23/25\n",
      "\u001b[1m23/23\u001b[0m \u001b[32m━━━━━━━━━━━━━━━━━━━━\u001b[0m\u001b[37m\u001b[0m \u001b[1m3s\u001b[0m 122ms/step - accuracy: 0.4809 - loss: 0.6933 - val_accuracy: 0.4510 - val_loss: 0.6934\n",
      "Epoch 24/25\n",
      "\u001b[1m23/23\u001b[0m \u001b[32m━━━━━━━━━━━━━━━━━━━━\u001b[0m\u001b[37m\u001b[0m \u001b[1m3s\u001b[0m 119ms/step - accuracy: 0.5009 - loss: 0.6932 - val_accuracy: 0.4510 - val_loss: 0.6935\n",
      "Epoch 25/25\n",
      "\u001b[1m23/23\u001b[0m \u001b[32m━━━━━━━━━━━━━━━━━━━━\u001b[0m\u001b[37m\u001b[0m \u001b[1m5s\u001b[0m 125ms/step - accuracy: 0.4847 - loss: 0.6933 - val_accuracy: 0.4510 - val_loss: 0.6935\n"
     ]
    }
   ],
   "source": [
    "# Train the model\n",
    "history = model.fit(X_train, y_train, epochs=25, validation_data=(X_val, y_val), batch_size=32)"
   ]
  },
  {
   "cell_type": "markdown",
   "id": "ebd80fff",
   "metadata": {},
   "source": [
    "# Evaluate the model on validation data"
   ]
  },
  {
   "cell_type": "code",
   "execution_count": 24,
   "id": "988a2220",
   "metadata": {},
   "outputs": [
    {
     "name": "stdout",
     "output_type": "stream",
     "text": [
      "\u001b[1m5/5\u001b[0m \u001b[32m━━━━━━━━━━━━━━━━━━━━\u001b[0m\u001b[37m\u001b[0m \u001b[1m0s\u001b[0m 36ms/step - accuracy: 0.4437 - loss: 0.6935\n"
     ]
    },
    {
     "data": {
      "text/plain": [
       "[0.6934587359428406, 0.45098039507865906]"
      ]
     },
     "execution_count": 24,
     "metadata": {},
     "output_type": "execute_result"
    }
   ],
   "source": [
    "# Evaluate the model - validation accuracy and loss\n",
    "model.evaluate(X_val, y_val)"
   ]
  },
  {
   "cell_type": "markdown",
   "id": "2ee851f1",
   "metadata": {},
   "source": [
    "### Insights\n",
    "- Poor performance low accuracy for validation data as well as training data"
   ]
  },
  {
   "cell_type": "code",
   "execution_count": 25,
   "id": "1e4f044d",
   "metadata": {},
   "outputs": [
    {
     "name": "stdout",
     "output_type": "stream",
     "text": [
      "\u001b[1m23/23\u001b[0m \u001b[32m━━━━━━━━━━━━━━━━━━━━\u001b[0m\u001b[37m\u001b[0m \u001b[1m1s\u001b[0m 35ms/step - accuracy: 0.4947 - loss: 0.6932\n"
     ]
    },
    {
     "data": {
      "text/plain": [
       "[0.693143367767334, 0.5014045238494873]"
      ]
     },
     "execution_count": 25,
     "metadata": {},
     "output_type": "execute_result"
    }
   ],
   "source": [
    "# Training accuracy and loss\n",
    "model.evaluate(X_train, y_train)"
   ]
  },
  {
   "cell_type": "markdown",
   "id": "8db7477c",
   "metadata": {},
   "source": [
    "# Training & Validation Loss plotted against number of Epochs"
   ]
  },
  {
   "cell_type": "code",
   "execution_count": 27,
   "id": "23d586da",
   "metadata": {
    "scrolled": true
   },
   "outputs": [
    {
     "data": {
      "image/png": "[encoded data removed]",
      "text/plain": [
       "<Figure size 1000x800 with 1 Axes>"
      ]
     },
     "metadata": {},
     "output_type": "display_data"
    }
   ],
   "source": [
    "N= np.arange(0,25)\n",
    "plt.style.use('ggplot')\n",
    "plt.figure(figsize=(10,8))\n",
    "plt.plot(N,history.history['loss'],label='train_loss')\n",
    "plt.plot(N,history.history['val_loss'],label='val_loss')\n",
    "plt.title('ANN: Training and Validation Loss')\n",
    "plt.xlabel('Epoch #',weight='bold')\n",
    "plt.ylabel('Loss',weight='bold')\n",
    "plt.legend()\n",
    "plt.show();"
   ]
  },
  {
   "cell_type": "markdown",
   "id": "26ad2ceb",
   "metadata": {},
   "source": [
    "### Insights\n",
    "- A good model should have a smooth decreasing training loss and a close by decreasing validation loss\n",
    "- A good model should have less fluctuations\n",
    "- In the following model has lot of fluctuations in train and validation loss, thus not a optimal model we need to tune the model to improve performance"
   ]
  },
  {
   "cell_type": "markdown",
   "id": "19f872f5",
   "metadata": {},
   "source": [
    "# Training & Validation Accuracy plotted against number of Epochs"
   ]
  },
  {
   "cell_type": "code",
   "execution_count": 28,
   "id": "29142528",
   "metadata": {
    "scrolled": true
   },
   "outputs": [
    {
     "data": {
      "image/png": "[encoded data removed]",
      "text/plain": [
       "<Figure size 1000x800 with 1 Axes>"
      ]
     },
     "metadata": {},
     "output_type": "display_data"
    }
   ],
   "source": [
    "N= np.arange(0,25)\n",
    "plt.style.use('ggplot')\n",
    "plt.figure(figsize=(10,8))\n",
    "plt.plot(N,history.history['accuracy'],label='train_acc')\n",
    "plt.plot(N,history.history['val_accuracy'],label='val_acc')\n",
    "plt.title('ANN: Training and Validation Accuracy')\n",
    "plt.xlabel('Epoch #',weight='bold')\n",
    "plt.ylabel('Accuracy',weight='bold')\n",
    "plt.legend()\n",
    "plt.show()"
   ]
  },
  {
   "cell_type": "markdown",
   "id": "ae7879ae",
   "metadata": {},
   "source": [
    "### Insights\n",
    "- A good model should have a smooth increasing training accuracy and a close by increasing validation accuracy values\n",
    "- A good model should have less fluctuations\n",
    "- In the following model validation accuracy is constant and a not a smooth increasing curve in train and validation accuracy, thus not a optimal model we need to tune the model to improve performance\n",
    "- there are high fluctuations in validation accuracy so not a suitable model"
   ]
  },
  {
   "cell_type": "markdown",
   "id": "162833a9",
   "metadata": {},
   "source": [
    "# Prediction on test data using CNN model"
   ]
  },
  {
   "cell_type": "code",
   "execution_count": 29,
   "id": "c0eb5711",
   "metadata": {},
   "outputs": [
    {
     "name": "stdout",
     "output_type": "stream",
     "text": [
      "\u001b[1m5/5\u001b[0m \u001b[32m━━━━━━━━━━━━━━━━━━━━\u001b[0m\u001b[37m\u001b[0m \u001b[1m1s\u001b[0m 103ms/step\n"
     ]
    }
   ],
   "source": [
    "y_pred= model.predict(X_test)"
   ]
  },
  {
   "cell_type": "markdown",
   "id": "163e158d",
   "metadata": {},
   "source": [
    "# Evaluate the model on test data (unseen data)"
   ]
  },
  {
   "cell_type": "code",
   "execution_count": 30,
   "id": "4fa586d0",
   "metadata": {},
   "outputs": [
    {
     "name": "stdout",
     "output_type": "stream",
     "text": [
      "[[ 0 70]\n",
      " [ 0 83]]\n"
     ]
    }
   ],
   "source": [
    "from sklearn.metrics import confusion_matrix, classification_report,accuracy_score\n",
    "# Since the output is probabilistic, use a threshold to convert to binary (0 or 1)\n",
    "y_pred = np.round(y_pred).astype(int)  # Convert to 0s and 1s based on a threshold of 0.5\n",
    "\n",
    "# 2. Generate the confusion matrix\n",
    "conf_matrix = confusion_matrix(y_test, y_pred)\n",
    "\n",
    "print(conf_matrix)"
   ]
  },
  {
   "cell_type": "code",
   "execution_count": 31,
   "id": "93d6a4a8",
   "metadata": {},
   "outputs": [
    {
     "name": "stdout",
     "output_type": "stream",
     "text": [
      "              precision    recall  f1-score   support\n",
      "\n",
      "           0       0.00      0.00      0.00        70\n",
      "           1       0.54      1.00      0.70        83\n",
      "\n",
      "    accuracy                           0.54       153\n",
      "   macro avg       0.27      0.50      0.35       153\n",
      "weighted avg       0.29      0.54      0.38       153\n",
      "\n",
      "Accuracy of the model:  0.5424836601307189\n"
     ]
    },
    {
     "name": "stderr",
     "output_type": "stream",
     "text": [
      "C:\\Users\\HP\\anaconda3\\Lib\\site-packages\\sklearn\\metrics\\_classification.py:1565: UndefinedMetricWarning: Precision is ill-defined and being set to 0.0 in labels with no predicted samples. Use `zero_division` parameter to control this behavior.\n",
      "  _warn_prf(average, modifier, f\"{metric.capitalize()} is\", len(result))\n",
      "C:\\Users\\HP\\anaconda3\\Lib\\site-packages\\sklearn\\metrics\\_classification.py:1565: UndefinedMetricWarning: Precision is ill-defined and being set to 0.0 in labels with no predicted samples. Use `zero_division` parameter to control this behavior.\n",
      "  _warn_prf(average, modifier, f\"{metric.capitalize()} is\", len(result))\n",
      "C:\\Users\\HP\\anaconda3\\Lib\\site-packages\\sklearn\\metrics\\_classification.py:1565: UndefinedMetricWarning: Precision is ill-defined and being set to 0.0 in labels with no predicted samples. Use `zero_division` parameter to control this behavior.\n",
      "  _warn_prf(average, modifier, f\"{metric.capitalize()} is\", len(result))\n"
     ]
    }
   ],
   "source": [
    "print(classification_report(y_test,y_pred))\n",
    " \n",
    "acc=accuracy_score(y_test, y_pred)\n",
    "print(\"Accuracy of the model: \",acc)"
   ]
  },
  {
   "cell_type": "markdown",
   "id": "535c36ba",
   "metadata": {},
   "source": [
    "## Insights:\n",
    "- The model is predicting all the images as Class 1 means as closed eyes which is incorrect.\n",
    "- The Class 0 has 0 recall, thus there is a need to tune the model as model is learning on only Class 1"
   ]
  },
  {
   "cell_type": "markdown",
   "id": "177eb789",
   "metadata": {},
   "source": [
    "# Tunning the model\n",
    "### testing all the below steps to get optimal model\n",
    "1. step 1 - increase dataset size from 224 images of each class to 509 images of each class total 1018 images\n",
    "2. step 2 - adding padding to convolutional layer to avoid shrinkage of image\n",
    "- still no improvement\n",
    "3. Step 3- image size changed to 80,80\n",
    "4. Step 4- SMOTE upsampling minority class\n",
    "5. Step 5- balance weights assigned to each class while training\n",
    "- trying all approached on the below model by editing code\n",
    "### Trying to handle underfitting\n",
    "6. Step 6- reduce to learning rate from 0.001 to 0.0001\n",
    "7. Step 7- increased epochs from 30 to 50"
   ]
  },
  {
   "cell_type": "markdown",
   "id": "fffd1fbd",
   "metadata": {},
   "source": [
    "## Increased dataset size and reloaded X and Y"
   ]
  },
  {
   "cell_type": "code",
   "execution_count": 32,
   "id": "9ef2f7b5",
   "metadata": {},
   "outputs": [],
   "source": [
    "# Image size\n",
    "IMG_SIZE = (80, 80)"
   ]
  },
  {
   "cell_type": "code",
   "execution_count": 33,
   "id": "f6ebe492",
   "metadata": {},
   "outputs": [],
   "source": [
    "X1, y1 = load_data()"
   ]
  },
  {
   "cell_type": "code",
   "execution_count": 34,
   "id": "b605d492",
   "metadata": {},
   "outputs": [
    {
     "name": "stdout",
     "output_type": "stream",
     "text": [
      "(1018, 80, 80)\n",
      "(1018,)\n"
     ]
    }
   ],
   "source": [
    "print(X1.shape)\n",
    "print(y1.shape)"
   ]
  },
  {
   "cell_type": "markdown",
   "id": "a9f733c0",
   "metadata": {},
   "source": [
    "## Normalize the image data"
   ]
  },
  {
   "cell_type": "code",
   "execution_count": 35,
   "id": "b2e09349",
   "metadata": {},
   "outputs": [],
   "source": [
    "# Normalize the image data\n",
    "X1 = X1 / 255.0"
   ]
  },
  {
   "cell_type": "markdown",
   "id": "4776010b",
   "metadata": {},
   "source": [
    "# Train-validation-test split (splitting data in 3 sets)"
   ]
  },
  {
   "cell_type": "code",
   "execution_count": 36,
   "id": "72c454cd",
   "metadata": {},
   "outputs": [],
   "source": [
    "from sklearn.model_selection import train_test_split\n",
    "\n",
    "# Split into train, validation, and test sets\n",
    "X_train1, X_temp1, y_train1, y_temp1 = train_test_split(X1, y1, test_size=0.3, random_state=42)\n",
    "X_val1, X_test1, y_val1, y_test1 = train_test_split(X_temp1, y_temp1, test_size=0.5, random_state=42)"
   ]
  },
  {
   "cell_type": "markdown",
   "id": "b2d185e4",
   "metadata": {},
   "source": [
    "# Preprocessing"
   ]
  },
  {
   "cell_type": "code",
   "execution_count": 37,
   "id": "c05b9721",
   "metadata": {},
   "outputs": [],
   "source": [
    "# Reshape images for CNN input (grayscale images, single channel)\n",
    "X_train1 = X_train1.reshape(-1, 80, 80, 1)\n",
    "X_val1 = X_val1.reshape(-1, 80, 80, 1)\n",
    "X_test1 = X_test1.reshape(-1, 80, 80, 1)"
   ]
  },
  {
   "cell_type": "code",
   "execution_count": 38,
   "id": "1765e428",
   "metadata": {},
   "outputs": [
    {
     "name": "stdout",
     "output_type": "stream",
     "text": [
      "(712, 80, 80, 1)\n",
      "(712,)\n",
      "(153, 80, 80, 1)\n",
      "(153,)\n"
     ]
    }
   ],
   "source": [
    "print(X_train1.shape)\n",
    "print(y_train1.shape)\n",
    "print(X_val1.shape)\n",
    "print(y_val1.shape)"
   ]
  },
  {
   "cell_type": "code",
   "execution_count": 39,
   "id": "16564835",
   "metadata": {},
   "outputs": [
    {
     "name": "stdout",
     "output_type": "stream",
     "text": [
      "(153, 80, 80, 1)\n",
      "(153,)\n"
     ]
    }
   ],
   "source": [
    "print(X_test1.shape)\n",
    "print(y_test1.shape)"
   ]
  },
  {
   "cell_type": "markdown",
   "id": "1ec6607b",
   "metadata": {},
   "source": [
    "# Define CNN Model Architechure"
   ]
  },
  {
   "cell_type": "markdown",
   "id": "01ea1b9d",
   "metadata": {},
   "source": [
    "## Model Tunning techniques:"
   ]
  },
  {
   "cell_type": "markdown",
   "id": "9ae061c9",
   "metadata": {},
   "source": [
    "## Adding Padding to Convolutional Layer to avoid shrinkage of image\n",
    "- There are two common types of padding:\n",
    "\n",
    "1. 'valid' padding (no padding): The feature map size reduces after each convolution.\n",
    "2. 'same' padding (zero padding): The output size remains the same as the input size."
   ]
  },
  {
   "cell_type": "markdown",
   "id": "06671d48",
   "metadata": {},
   "source": [
    "- By specifying padding='same', the output of the convolution will have the same width and height as the input. This is achieved by adding zero-padding to the input feature map so that after the convolution, the spatial dimensions are preserved.\n",
    "- In contrast, padding='valid' (the default) will perform convolution without any padding, leading to smaller output feature maps."
   ]
  },
  {
   "cell_type": "code",
   "execution_count": 40,
   "id": "7de58fef",
   "metadata": {},
   "outputs": [
    {
     "name": "stderr",
     "output_type": "stream",
     "text": [
      "C:\\Users\\HP\\anaconda3\\Lib\\site-packages\\keras\\src\\layers\\convolutional\\base_conv.py:107: UserWarning: Do not pass an `input_shape`/`input_dim` argument to a layer. When using Sequential models, prefer using an `Input(shape)` object as the first layer in the model instead.\n",
      "  super().__init__(activity_regularizer=activity_regularizer, **kwargs)\n"
     ]
    }
   ],
   "source": [
    "# Model Architecture\n",
    "model1 = Sequential()\n",
    "\n",
    "# 1st Convolutional Layer\n",
    "model1.add(Conv2D(32, (3, 3), activation='relu', input_shape=(80, 80, 1), padding='same'))  # Grayscale images\n",
    "model1.add(MaxPooling2D(pool_size=(2, 2)))\n",
    "\n",
    "# 2nd Convolutional Layer\n",
    "model1.add(Conv2D(32, (3, 3), activation='relu', padding='same'))\n",
    "model1.add(MaxPooling2D(pool_size=(2, 2)))\n",
    "\n",
    "# 3rd Convolutional Layer\n",
    "model1.add(Conv2D(64, (3, 3), activation='relu', padding='same'))\n",
    "model1.add(MaxPooling2D(pool_size=(2, 2)))\n",
    "\n",
    "# Flattening the layers\n",
    "model1.add(Flatten())\n",
    "\n",
    "# Fully connected layer\n",
    "model1.add(Dense(128, activation='relu'))\n",
    "# Dropout to reduce overfitting\n",
    "#model1.add(Dropout(0.5))\n",
    "\n",
    "# Output layer with sigmoid activation for binary classification\n",
    "model1.add(Dense(1, activation='sigmoid'))"
   ]
  },
  {
   "cell_type": "markdown",
   "id": "4abde6a0",
   "metadata": {},
   "source": [
    "# Compile the model\n",
    "- Decrease the learning rate (0.0001) to overcome underfitting (tunning model steps)"
   ]
  },
  {
   "cell_type": "code",
   "execution_count": 41,
   "id": "ace483d8",
   "metadata": {},
   "outputs": [],
   "source": [
    "# Compile the model\n",
    "model1.compile(optimizer=Adam(learning_rate=0.0001), loss='binary_crossentropy', metrics=['accuracy'])"
   ]
  },
  {
   "cell_type": "code",
   "execution_count": 42,
   "id": "039f36bc",
   "metadata": {
    "scrolled": true
   },
   "outputs": [
    {
     "data": {
      "text/html": [
       "<pre style=\"white-space:pre;overflow-x:auto;line-height:normal;font-family:Menlo,'DejaVu Sans Mono',consolas,'Courier New',monospace\"><span style=\"font-weight: bold\">Model: \"sequential_1\"</span>\n",
       "</pre>\n"
      ],
      "text/plain": [
       "\u001b[1mModel: \"sequential_1\"\u001b[0m\n"
      ]
     },
     "metadata": {},
     "output_type": "display_data"
    },
    {
     "data": {
      "text/html": [
       "<pre style=\"white-space:pre;overflow-x:auto;line-height:normal;font-family:Menlo,'DejaVu Sans Mono',consolas,'Courier New',monospace\">┏━━━━━━━━━━━━━━━━━━━━━━━━━━━━━━━━━━━━━━┳━━━━━━━━━━━━━━━━━━━━━━━━━━━━━┳━━━━━━━━━━━━━━━━━┓\n",
       "┃<span style=\"font-weight: bold\"> Layer (type)                         </span>┃<span style=\"font-weight: bold\"> Output Shape                </span>┃<span style=\"font-weight: bold\">         Param # </span>┃\n",
       "┡━━━━━━━━━━━━━━━━━━━━━━━━━━━━━━━━━━━━━━╇━━━━━━━━━━━━━━━━━━━━━━━━━━━━━╇━━━━━━━━━━━━━━━━━┩\n",
       "│ conv2d_3 (<span style=\"color: #0087ff; text-decoration-color: #0087ff\">Conv2D</span>)                    │ (<span style=\"color: #00d7ff; text-decoration-color: #00d7ff\">None</span>, <span style=\"color: #00af00; text-decoration-color: #00af00\">80</span>, <span style=\"color: #00af00; text-decoration-color: #00af00\">80</span>, <span style=\"color: #00af00; text-decoration-color: #00af00\">32</span>)          │             <span style=\"color: #00af00; text-decoration-color: #00af00\">320</span> │\n",
       "├──────────────────────────────────────┼─────────────────────────────┼─────────────────┤\n",
       "│ max_pooling2d_3 (<span style=\"color: #0087ff; text-decoration-color: #0087ff\">MaxPooling2D</span>)       │ (<span style=\"color: #00d7ff; text-decoration-color: #00d7ff\">None</span>, <span style=\"color: #00af00; text-decoration-color: #00af00\">40</span>, <span style=\"color: #00af00; text-decoration-color: #00af00\">40</span>, <span style=\"color: #00af00; text-decoration-color: #00af00\">32</span>)          │               <span style=\"color: #00af00; text-decoration-color: #00af00\">0</span> │\n",
       "├──────────────────────────────────────┼─────────────────────────────┼─────────────────┤\n",
       "│ conv2d_4 (<span style=\"color: #0087ff; text-decoration-color: #0087ff\">Conv2D</span>)                    │ (<span style=\"color: #00d7ff; text-decoration-color: #00d7ff\">None</span>, <span style=\"color: #00af00; text-decoration-color: #00af00\">40</span>, <span style=\"color: #00af00; text-decoration-color: #00af00\">40</span>, <span style=\"color: #00af00; text-decoration-color: #00af00\">32</span>)          │           <span style=\"color: #00af00; text-decoration-color: #00af00\">9,248</span> │\n",
       "├──────────────────────────────────────┼─────────────────────────────┼─────────────────┤\n",
       "│ max_pooling2d_4 (<span style=\"color: #0087ff; text-decoration-color: #0087ff\">MaxPooling2D</span>)       │ (<span style=\"color: #00d7ff; text-decoration-color: #00d7ff\">None</span>, <span style=\"color: #00af00; text-decoration-color: #00af00\">20</span>, <span style=\"color: #00af00; text-decoration-color: #00af00\">20</span>, <span style=\"color: #00af00; text-decoration-color: #00af00\">32</span>)          │               <span style=\"color: #00af00; text-decoration-color: #00af00\">0</span> │\n",
       "├──────────────────────────────────────┼─────────────────────────────┼─────────────────┤\n",
       "│ conv2d_5 (<span style=\"color: #0087ff; text-decoration-color: #0087ff\">Conv2D</span>)                    │ (<span style=\"color: #00d7ff; text-decoration-color: #00d7ff\">None</span>, <span style=\"color: #00af00; text-decoration-color: #00af00\">20</span>, <span style=\"color: #00af00; text-decoration-color: #00af00\">20</span>, <span style=\"color: #00af00; text-decoration-color: #00af00\">64</span>)          │          <span style=\"color: #00af00; text-decoration-color: #00af00\">18,496</span> │\n",
       "├──────────────────────────────────────┼─────────────────────────────┼─────────────────┤\n",
       "│ max_pooling2d_5 (<span style=\"color: #0087ff; text-decoration-color: #0087ff\">MaxPooling2D</span>)       │ (<span style=\"color: #00d7ff; text-decoration-color: #00d7ff\">None</span>, <span style=\"color: #00af00; text-decoration-color: #00af00\">10</span>, <span style=\"color: #00af00; text-decoration-color: #00af00\">10</span>, <span style=\"color: #00af00; text-decoration-color: #00af00\">64</span>)          │               <span style=\"color: #00af00; text-decoration-color: #00af00\">0</span> │\n",
       "├──────────────────────────────────────┼─────────────────────────────┼─────────────────┤\n",
       "│ flatten_1 (<span style=\"color: #0087ff; text-decoration-color: #0087ff\">Flatten</span>)                  │ (<span style=\"color: #00d7ff; text-decoration-color: #00d7ff\">None</span>, <span style=\"color: #00af00; text-decoration-color: #00af00\">6400</span>)                │               <span style=\"color: #00af00; text-decoration-color: #00af00\">0</span> │\n",
       "├──────────────────────────────────────┼─────────────────────────────┼─────────────────┤\n",
       "│ dense_2 (<span style=\"color: #0087ff; text-decoration-color: #0087ff\">Dense</span>)                      │ (<span style=\"color: #00d7ff; text-decoration-color: #00d7ff\">None</span>, <span style=\"color: #00af00; text-decoration-color: #00af00\">128</span>)                 │         <span style=\"color: #00af00; text-decoration-color: #00af00\">819,328</span> │\n",
       "├──────────────────────────────────────┼─────────────────────────────┼─────────────────┤\n",
       "│ dense_3 (<span style=\"color: #0087ff; text-decoration-color: #0087ff\">Dense</span>)                      │ (<span style=\"color: #00d7ff; text-decoration-color: #00d7ff\">None</span>, <span style=\"color: #00af00; text-decoration-color: #00af00\">1</span>)                   │             <span style=\"color: #00af00; text-decoration-color: #00af00\">129</span> │\n",
       "└──────────────────────────────────────┴─────────────────────────────┴─────────────────┘\n",
       "</pre>\n"
      ],
      "text/plain": [
       "┏━━━━━━━━━━━━━━━━━━━━━━━━━━━━━━━━━━━━━━┳━━━━━━━━━━━━━━━━━━━━━━━━━━━━━┳━━━━━━━━━━━━━━━━━┓\n",
       "┃\u001b[1m \u001b[0m\u001b[1mLayer (type)                        \u001b[0m\u001b[1m \u001b[0m┃\u001b[1m \u001b[0m\u001b[1mOutput Shape               \u001b[0m\u001b[1m \u001b[0m┃\u001b[1m \u001b[0m\u001b[1m        Param #\u001b[0m\u001b[1m \u001b[0m┃\n",
       "┡━━━━━━━━━━━━━━━━━━━━━━━━━━━━━━━━━━━━━━╇━━━━━━━━━━━━━━━━━━━━━━━━━━━━━╇━━━━━━━━━━━━━━━━━┩\n",
       "│ conv2d_3 (\u001b[38;5;33mConv2D\u001b[0m)                    │ (\u001b[38;5;45mNone\u001b[0m, \u001b[38;5;34m80\u001b[0m, \u001b[38;5;34m80\u001b[0m, \u001b[38;5;34m32\u001b[0m)          │             \u001b[38;5;34m320\u001b[0m │\n",
       "├──────────────────────────────────────┼─────────────────────────────┼─────────────────┤\n",
       "│ max_pooling2d_3 (\u001b[38;5;33mMaxPooling2D\u001b[0m)       │ (\u001b[38;5;45mNone\u001b[0m, \u001b[38;5;34m40\u001b[0m, \u001b[38;5;34m40\u001b[0m, \u001b[38;5;34m32\u001b[0m)          │               \u001b[38;5;34m0\u001b[0m │\n",
       "├──────────────────────────────────────┼─────────────────────────────┼─────────────────┤\n",
       "│ conv2d_4 (\u001b[38;5;33mConv2D\u001b[0m)                    │ (\u001b[38;5;45mNone\u001b[0m, \u001b[38;5;34m40\u001b[0m, \u001b[38;5;34m40\u001b[0m, \u001b[38;5;34m32\u001b[0m)          │           \u001b[38;5;34m9,248\u001b[0m │\n",
       "├──────────────────────────────────────┼─────────────────────────────┼─────────────────┤\n",
       "│ max_pooling2d_4 (\u001b[38;5;33mMaxPooling2D\u001b[0m)       │ (\u001b[38;5;45mNone\u001b[0m, \u001b[38;5;34m20\u001b[0m, \u001b[38;5;34m20\u001b[0m, \u001b[38;5;34m32\u001b[0m)          │               \u001b[38;5;34m0\u001b[0m │\n",
       "├──────────────────────────────────────┼─────────────────────────────┼─────────────────┤\n",
       "│ conv2d_5 (\u001b[38;5;33mConv2D\u001b[0m)                    │ (\u001b[38;5;45mNone\u001b[0m, \u001b[38;5;34m20\u001b[0m, \u001b[38;5;34m20\u001b[0m, \u001b[38;5;34m64\u001b[0m)          │          \u001b[38;5;34m18,496\u001b[0m │\n",
       "├──────────────────────────────────────┼─────────────────────────────┼─────────────────┤\n",
       "│ max_pooling2d_5 (\u001b[38;5;33mMaxPooling2D\u001b[0m)       │ (\u001b[38;5;45mNone\u001b[0m, \u001b[38;5;34m10\u001b[0m, \u001b[38;5;34m10\u001b[0m, \u001b[38;5;34m64\u001b[0m)          │               \u001b[38;5;34m0\u001b[0m │\n",
       "├──────────────────────────────────────┼─────────────────────────────┼─────────────────┤\n",
       "│ flatten_1 (\u001b[38;5;33mFlatten\u001b[0m)                  │ (\u001b[38;5;45mNone\u001b[0m, \u001b[38;5;34m6400\u001b[0m)                │               \u001b[38;5;34m0\u001b[0m │\n",
       "├──────────────────────────────────────┼─────────────────────────────┼─────────────────┤\n",
       "│ dense_2 (\u001b[38;5;33mDense\u001b[0m)                      │ (\u001b[38;5;45mNone\u001b[0m, \u001b[38;5;34m128\u001b[0m)                 │         \u001b[38;5;34m819,328\u001b[0m │\n",
       "├──────────────────────────────────────┼─────────────────────────────┼─────────────────┤\n",
       "│ dense_3 (\u001b[38;5;33mDense\u001b[0m)                      │ (\u001b[38;5;45mNone\u001b[0m, \u001b[38;5;34m1\u001b[0m)                   │             \u001b[38;5;34m129\u001b[0m │\n",
       "└──────────────────────────────────────┴─────────────────────────────┴─────────────────┘\n"
      ]
     },
     "metadata": {},
     "output_type": "display_data"
    },
    {
     "data": {
      "text/html": [
       "<pre style=\"white-space:pre;overflow-x:auto;line-height:normal;font-family:Menlo,'DejaVu Sans Mono',consolas,'Courier New',monospace\"><span style=\"font-weight: bold\"> Total params: </span><span style=\"color: #00af00; text-decoration-color: #00af00\">847,521</span> (3.23 MB)\n",
       "</pre>\n"
      ],
      "text/plain": [
       "\u001b[1m Total params: \u001b[0m\u001b[38;5;34m847,521\u001b[0m (3.23 MB)\n"
      ]
     },
     "metadata": {},
     "output_type": "display_data"
    },
    {
     "data": {
      "text/html": [
       "<pre style=\"white-space:pre;overflow-x:auto;line-height:normal;font-family:Menlo,'DejaVu Sans Mono',consolas,'Courier New',monospace\"><span style=\"font-weight: bold\"> Trainable params: </span><span style=\"color: #00af00; text-decoration-color: #00af00\">847,521</span> (3.23 MB)\n",
       "</pre>\n"
      ],
      "text/plain": [
       "\u001b[1m Trainable params: \u001b[0m\u001b[38;5;34m847,521\u001b[0m (3.23 MB)\n"
      ]
     },
     "metadata": {},
     "output_type": "display_data"
    },
    {
     "data": {
      "text/html": [
       "<pre style=\"white-space:pre;overflow-x:auto;line-height:normal;font-family:Menlo,'DejaVu Sans Mono',consolas,'Courier New',monospace\"><span style=\"font-weight: bold\"> Non-trainable params: </span><span style=\"color: #00af00; text-decoration-color: #00af00\">0</span> (0.00 B)\n",
       "</pre>\n"
      ],
      "text/plain": [
       "\u001b[1m Non-trainable params: \u001b[0m\u001b[38;5;34m0\u001b[0m (0.00 B)\n"
      ]
     },
     "metadata": {},
     "output_type": "display_data"
    }
   ],
   "source": [
    "model1.summary()"
   ]
  },
  {
   "cell_type": "markdown",
   "id": "201814bc",
   "metadata": {},
   "source": [
    "## ModelTunning technique 2 - Oversampling using SMOTE to bring training data labels in balance"
   ]
  },
  {
   "cell_type": "code",
   "execution_count": 43,
   "id": "0b0f9f0a",
   "metadata": {},
   "outputs": [],
   "source": [
    "from imblearn.over_sampling import SMOTE\n",
    "import numpy as np\n",
    "\n",
    "# Reshape 4D array (num_samples, height, width, channels) to 2D array (num_samples, height*width*channels)\n",
    "num_samples, height, width, channels = X_train1.shape\n",
    "X_train1_reshaped = X_train1.reshape(num_samples, height * width * channels)\n",
    "\n",
    "# Apply SMOTE to the reshaped data\n",
    "smote = SMOTE()\n",
    "X_train_resampled, y_train_resampled = smote.fit_resample(X_train1_reshaped, y_train1)\n",
    "\n",
    "# Reshape back to 4D array (num_samples_resampled, height, width, channels)\n",
    "num_samples_resampled = X_train_resampled.shape[0]\n",
    "X_train_resampled = X_train_resampled.reshape(num_samples_resampled, height, width, channels)"
   ]
  },
  {
   "cell_type": "markdown",
   "id": "604a6e2c",
   "metadata": {},
   "source": [
    "## Model Tunning technique 3"
   ]
  },
  {
   "cell_type": "markdown",
   "id": "34f14885",
   "metadata": {},
   "source": [
    "## Calculate class weights to handle class imbalance by balancing both the classes weights while training the model"
   ]
  },
  {
   "cell_type": "code",
   "execution_count": 44,
   "id": "95a1f801",
   "metadata": {},
   "outputs": [],
   "source": [
    "from sklearn.utils import class_weight\n",
    "\n",
    "# Calculate class weights to handle class imbalance\n",
    "class_weights = class_weight.compute_class_weight('balanced', \n",
    "                                                  classes=np.unique(y_train_resampled), \n",
    "                                                  y=y_train_resampled)"
   ]
  },
  {
   "cell_type": "markdown",
   "id": "a044f272",
   "metadata": {},
   "source": [
    "# Train the model"
   ]
  },
  {
   "cell_type": "markdown",
   "id": "32a24a1d",
   "metadata": {},
   "source": [
    "## Model Tunning technique 3 for underfitting model\n",
    "- Decrease the learning rate (0.0001)\n",
    "- increase number of epochs to increase accuracy"
   ]
  },
  {
   "cell_type": "code",
   "execution_count": 45,
   "id": "5bbbeb83",
   "metadata": {
    "scrolled": true
   },
   "outputs": [
    {
     "name": "stdout",
     "output_type": "stream",
     "text": [
      "Epoch 1/80\n",
      "\u001b[1m23/23\u001b[0m \u001b[32m━━━━━━━━━━━━━━━━━━━━\u001b[0m\u001b[37m\u001b[0m \u001b[1m9s\u001b[0m 197ms/step - accuracy: 0.4996 - loss: 0.6932 - val_accuracy: 0.5490 - val_loss: 0.6931\n",
      "Epoch 2/80\n",
      "\u001b[1m23/23\u001b[0m \u001b[32m━━━━━━━━━━━━━━━━━━━━\u001b[0m\u001b[37m\u001b[0m \u001b[1m4s\u001b[0m 159ms/step - accuracy: 0.4919 - loss: 0.6931 - val_accuracy: 0.5490 - val_loss: 0.6929\n",
      "Epoch 3/80\n",
      "\u001b[1m23/23\u001b[0m \u001b[32m━━━━━━━━━━━━━━━━━━━━\u001b[0m\u001b[37m\u001b[0m \u001b[1m4s\u001b[0m 157ms/step - accuracy: 0.4828 - loss: 0.6932 - val_accuracy: 0.5490 - val_loss: 0.6929\n",
      "Epoch 4/80\n",
      "\u001b[1m23/23\u001b[0m \u001b[32m━━━━━━━━━━━━━━━━━━━━\u001b[0m\u001b[37m\u001b[0m \u001b[1m3s\u001b[0m 146ms/step - accuracy: 0.4885 - loss: 0.6930 - val_accuracy: 0.5490 - val_loss: 0.6926\n",
      "Epoch 5/80\n",
      "\u001b[1m23/23\u001b[0m \u001b[32m━━━━━━━━━━━━━━━━━━━━\u001b[0m\u001b[37m\u001b[0m \u001b[1m5s\u001b[0m 157ms/step - accuracy: 0.5233 - loss: 0.6927 - val_accuracy: 0.5556 - val_loss: 0.6926\n",
      "Epoch 6/80\n",
      "\u001b[1m23/23\u001b[0m \u001b[32m━━━━━━━━━━━━━━━━━━━━\u001b[0m\u001b[37m\u001b[0m \u001b[1m3s\u001b[0m 147ms/step - accuracy: 0.5312 - loss: 0.6923 - val_accuracy: 0.6536 - val_loss: 0.6921\n",
      "Epoch 7/80\n",
      "\u001b[1m23/23\u001b[0m \u001b[32m━━━━━━━━━━━━━━━━━━━━\u001b[0m\u001b[37m\u001b[0m \u001b[1m6s\u001b[0m 179ms/step - accuracy: 0.5974 - loss: 0.6913 - val_accuracy: 0.5882 - val_loss: 0.6915\n",
      "Epoch 8/80\n",
      "\u001b[1m23/23\u001b[0m \u001b[32m━━━━━━━━━━━━━━━━━━━━\u001b[0m\u001b[37m\u001b[0m \u001b[1m5s\u001b[0m 173ms/step - accuracy: 0.5818 - loss: 0.6897 - val_accuracy: 0.7124 - val_loss: 0.6875\n",
      "Epoch 9/80\n",
      "\u001b[1m23/23\u001b[0m \u001b[32m━━━━━━━━━━━━━━━━━━━━\u001b[0m\u001b[37m\u001b[0m \u001b[1m6s\u001b[0m 217ms/step - accuracy: 0.5947 - loss: 0.6858 - val_accuracy: 0.6536 - val_loss: 0.6819\n",
      "Epoch 10/80\n",
      "\u001b[1m23/23\u001b[0m \u001b[32m━━━━━━━━━━━━━━━━━━━━\u001b[0m\u001b[37m\u001b[0m \u001b[1m4s\u001b[0m 168ms/step - accuracy: 0.6202 - loss: 0.6787 - val_accuracy: 0.6667 - val_loss: 0.6779\n",
      "Epoch 11/80\n",
      "\u001b[1m23/23\u001b[0m \u001b[32m━━━━━━━━━━━━━━━━━━━━\u001b[0m\u001b[37m\u001b[0m \u001b[1m4s\u001b[0m 153ms/step - accuracy: 0.6877 - loss: 0.6679 - val_accuracy: 0.6928 - val_loss: 0.6572\n",
      "Epoch 12/80\n",
      "\u001b[1m23/23\u001b[0m \u001b[32m━━━━━━━━━━━━━━━━━━━━\u001b[0m\u001b[37m\u001b[0m \u001b[1m4s\u001b[0m 161ms/step - accuracy: 0.6970 - loss: 0.6446 - val_accuracy: 0.6732 - val_loss: 0.6386\n",
      "Epoch 13/80\n",
      "\u001b[1m23/23\u001b[0m \u001b[32m━━━━━━━━━━━━━━━━━━━━\u001b[0m\u001b[37m\u001b[0m \u001b[1m5s\u001b[0m 165ms/step - accuracy: 0.7072 - loss: 0.6304 - val_accuracy: 0.6928 - val_loss: 0.6184\n",
      "Epoch 14/80\n",
      "\u001b[1m23/23\u001b[0m \u001b[32m━━━━━━━━━━━━━━━━━━━━\u001b[0m\u001b[37m\u001b[0m \u001b[1m5s\u001b[0m 153ms/step - accuracy: 0.7486 - loss: 0.5995 - val_accuracy: 0.7124 - val_loss: 0.5873\n",
      "Epoch 15/80\n",
      "\u001b[1m23/23\u001b[0m \u001b[32m━━━━━━━━━━━━━━━━━━━━\u001b[0m\u001b[37m\u001b[0m \u001b[1m5s\u001b[0m 152ms/step - accuracy: 0.7402 - loss: 0.5753 - val_accuracy: 0.7190 - val_loss: 0.5637\n",
      "Epoch 16/80\n",
      "\u001b[1m23/23\u001b[0m \u001b[32m━━━━━━━━━━━━━━━━━━━━\u001b[0m\u001b[37m\u001b[0m \u001b[1m6s\u001b[0m 178ms/step - accuracy: 0.7335 - loss: 0.5492 - val_accuracy: 0.6863 - val_loss: 0.5534\n",
      "Epoch 17/80\n",
      "\u001b[1m23/23\u001b[0m \u001b[32m━━━━━━━━━━━━━━━━━━━━\u001b[0m\u001b[37m\u001b[0m \u001b[1m5s\u001b[0m 160ms/step - accuracy: 0.7510 - loss: 0.5141 - val_accuracy: 0.6863 - val_loss: 0.5511\n",
      "Epoch 18/80\n",
      "\u001b[1m23/23\u001b[0m \u001b[32m━━━━━━━━━━━━━━━━━━━━\u001b[0m\u001b[37m\u001b[0m \u001b[1m5s\u001b[0m 142ms/step - accuracy: 0.7278 - loss: 0.5198 - val_accuracy: 0.6928 - val_loss: 0.5499\n",
      "Epoch 19/80\n",
      "\u001b[1m23/23\u001b[0m \u001b[32m━━━━━━━━━━━━━━━━━━━━\u001b[0m\u001b[37m\u001b[0m \u001b[1m5s\u001b[0m 148ms/step - accuracy: 0.7427 - loss: 0.4992 - val_accuracy: 0.7255 - val_loss: 0.5246\n",
      "Epoch 20/80\n",
      "\u001b[1m23/23\u001b[0m \u001b[32m━━━━━━━━━━━━━━━━━━━━\u001b[0m\u001b[37m\u001b[0m \u001b[1m5s\u001b[0m 119ms/step - accuracy: 0.7490 - loss: 0.4984 - val_accuracy: 0.7320 - val_loss: 0.5164\n",
      "Epoch 21/80\n",
      "\u001b[1m23/23\u001b[0m \u001b[32m━━━━━━━━━━━━━━━━━━━━\u001b[0m\u001b[37m\u001b[0m \u001b[1m3s\u001b[0m 120ms/step - accuracy: 0.7795 - loss: 0.4770 - val_accuracy: 0.7059 - val_loss: 0.5462\n",
      "Epoch 22/80\n",
      "\u001b[1m23/23\u001b[0m \u001b[32m━━━━━━━━━━━━━━━━━━━━\u001b[0m\u001b[37m\u001b[0m \u001b[1m3s\u001b[0m 127ms/step - accuracy: 0.7556 - loss: 0.4975 - val_accuracy: 0.7451 - val_loss: 0.5057\n",
      "Epoch 23/80\n",
      "\u001b[1m23/23\u001b[0m \u001b[32m━━━━━━━━━━━━━━━━━━━━\u001b[0m\u001b[37m\u001b[0m \u001b[1m5s\u001b[0m 120ms/step - accuracy: 0.7847 - loss: 0.4739 - val_accuracy: 0.7190 - val_loss: 0.5256\n",
      "Epoch 24/80\n",
      "\u001b[1m23/23\u001b[0m \u001b[32m━━━━━━━━━━━━━━━━━━━━\u001b[0m\u001b[37m\u001b[0m \u001b[1m3s\u001b[0m 124ms/step - accuracy: 0.7697 - loss: 0.4820 - val_accuracy: 0.7451 - val_loss: 0.5002\n",
      "Epoch 25/80\n",
      "\u001b[1m23/23\u001b[0m \u001b[32m━━━━━━━━━━━━━━━━━━━━\u001b[0m\u001b[37m\u001b[0m \u001b[1m3s\u001b[0m 120ms/step - accuracy: 0.7888 - loss: 0.4738 - val_accuracy: 0.7843 - val_loss: 0.4964\n",
      "Epoch 26/80\n",
      "\u001b[1m23/23\u001b[0m \u001b[32m━━━━━━━━━━━━━━━━━━━━\u001b[0m\u001b[37m\u001b[0m \u001b[1m5s\u001b[0m 119ms/step - accuracy: 0.8004 - loss: 0.4466 - val_accuracy: 0.7451 - val_loss: 0.4972\n",
      "Epoch 27/80\n",
      "\u001b[1m23/23\u001b[0m \u001b[32m━━━━━━━━━━━━━━━━━━━━\u001b[0m\u001b[37m\u001b[0m \u001b[1m5s\u001b[0m 124ms/step - accuracy: 0.7935 - loss: 0.4531 - val_accuracy: 0.7843 - val_loss: 0.4940\n",
      "Epoch 28/80\n",
      "\u001b[1m23/23\u001b[0m \u001b[32m━━━━━━━━━━━━━━━━━━━━\u001b[0m\u001b[37m\u001b[0m \u001b[1m3s\u001b[0m 125ms/step - accuracy: 0.8100 - loss: 0.4275 - val_accuracy: 0.7516 - val_loss: 0.4905\n",
      "Epoch 29/80\n",
      "\u001b[1m23/23\u001b[0m \u001b[32m━━━━━━━━━━━━━━━━━━━━\u001b[0m\u001b[37m\u001b[0m \u001b[1m3s\u001b[0m 121ms/step - accuracy: 0.7948 - loss: 0.4414 - val_accuracy: 0.7647 - val_loss: 0.4862\n",
      "Epoch 30/80\n",
      "\u001b[1m23/23\u001b[0m \u001b[32m━━━━━━━━━━━━━━━━━━━━\u001b[0m\u001b[37m\u001b[0m \u001b[1m3s\u001b[0m 132ms/step - accuracy: 0.8004 - loss: 0.4193 - val_accuracy: 0.7778 - val_loss: 0.4810\n",
      "Epoch 31/80\n",
      "\u001b[1m23/23\u001b[0m \u001b[32m━━━━━━━━━━━━━━━━━━━━\u001b[0m\u001b[37m\u001b[0m \u001b[1m5s\u001b[0m 118ms/step - accuracy: 0.8319 - loss: 0.4147 - val_accuracy: 0.7843 - val_loss: 0.4807\n",
      "Epoch 32/80\n",
      "\u001b[1m23/23\u001b[0m \u001b[32m━━━━━━━━━━━━━━━━━━━━\u001b[0m\u001b[37m\u001b[0m \u001b[1m5s\u001b[0m 130ms/step - accuracy: 0.7922 - loss: 0.4461 - val_accuracy: 0.7843 - val_loss: 0.4750\n",
      "Epoch 33/80\n",
      "\u001b[1m23/23\u001b[0m \u001b[32m━━━━━━━━━━━━━━━━━━━━\u001b[0m\u001b[37m\u001b[0m \u001b[1m3s\u001b[0m 128ms/step - accuracy: 0.8110 - loss: 0.4185 - val_accuracy: 0.7843 - val_loss: 0.4701\n",
      "Epoch 34/80\n",
      "\u001b[1m23/23\u001b[0m \u001b[32m━━━━━━━━━━━━━━━━━━━━\u001b[0m\u001b[37m\u001b[0m \u001b[1m3s\u001b[0m 126ms/step - accuracy: 0.8005 - loss: 0.4536 - val_accuracy: 0.7778 - val_loss: 0.4714\n",
      "Epoch 35/80\n",
      "\u001b[1m23/23\u001b[0m \u001b[32m━━━━━━━━━━━━━━━━━━━━\u001b[0m\u001b[37m\u001b[0m \u001b[1m5s\u001b[0m 131ms/step - accuracy: 0.7956 - loss: 0.4239 - val_accuracy: 0.7843 - val_loss: 0.4614\n",
      "Epoch 36/80\n",
      "\u001b[1m23/23\u001b[0m \u001b[32m━━━━━━━━━━━━━━━━━━━━\u001b[0m\u001b[37m\u001b[0m \u001b[1m3s\u001b[0m 131ms/step - accuracy: 0.8081 - loss: 0.4051 - val_accuracy: 0.7778 - val_loss: 0.4599\n",
      "Epoch 37/80\n",
      "\u001b[1m23/23\u001b[0m \u001b[32m━━━━━━━━━━━━━━━━━━━━\u001b[0m\u001b[37m\u001b[0m \u001b[1m5s\u001b[0m 125ms/step - accuracy: 0.8251 - loss: 0.3846 - val_accuracy: 0.7843 - val_loss: 0.4561\n",
      "Epoch 38/80\n",
      "\u001b[1m23/23\u001b[0m \u001b[32m━━━━━━━━━━━━━━━━━━━━\u001b[0m\u001b[37m\u001b[0m \u001b[1m5s\u001b[0m 124ms/step - accuracy: 0.7989 - loss: 0.4197 - val_accuracy: 0.8039 - val_loss: 0.4528\n",
      "Epoch 39/80\n",
      "\u001b[1m23/23\u001b[0m \u001b[32m━━━━━━━━━━━━━━━━━━━━\u001b[0m\u001b[37m\u001b[0m \u001b[1m3s\u001b[0m 129ms/step - accuracy: 0.8019 - loss: 0.4285 - val_accuracy: 0.7974 - val_loss: 0.4465\n",
      "Epoch 40/80\n",
      "\u001b[1m23/23\u001b[0m \u001b[32m━━━━━━━━━━━━━━━━━━━━\u001b[0m\u001b[37m\u001b[0m \u001b[1m3s\u001b[0m 127ms/step - accuracy: 0.8522 - loss: 0.3702 - val_accuracy: 0.7908 - val_loss: 0.4401\n",
      "Epoch 41/80\n",
      "\u001b[1m23/23\u001b[0m \u001b[32m━━━━━━━━━━━━━━━━━━━━\u001b[0m\u001b[37m\u001b[0m \u001b[1m5s\u001b[0m 117ms/step - accuracy: 0.8450 - loss: 0.3708 - val_accuracy: 0.7843 - val_loss: 0.4442\n",
      "Epoch 42/80\n",
      "\u001b[1m23/23\u001b[0m \u001b[32m━━━━━━━━━━━━━━━━━━━━\u001b[0m\u001b[37m\u001b[0m \u001b[1m5s\u001b[0m 129ms/step - accuracy: 0.8413 - loss: 0.3805 - val_accuracy: 0.8039 - val_loss: 0.4338\n",
      "Epoch 43/80\n",
      "\u001b[1m23/23\u001b[0m \u001b[32m━━━━━━━━━━━━━━━━━━━━\u001b[0m\u001b[37m\u001b[0m \u001b[1m3s\u001b[0m 129ms/step - accuracy: 0.8333 - loss: 0.3707 - val_accuracy: 0.7778 - val_loss: 0.4282\n",
      "Epoch 44/80\n",
      "\u001b[1m23/23\u001b[0m \u001b[32m━━━━━━━━━━━━━━━━━━━━\u001b[0m\u001b[37m\u001b[0m \u001b[1m3s\u001b[0m 123ms/step - accuracy: 0.8406 - loss: 0.3692 - val_accuracy: 0.7843 - val_loss: 0.4268\n",
      "Epoch 45/80\n",
      "\u001b[1m23/23\u001b[0m \u001b[32m━━━━━━━━━━━━━━━━━━━━\u001b[0m\u001b[37m\u001b[0m \u001b[1m3s\u001b[0m 129ms/step - accuracy: 0.8317 - loss: 0.3689 - val_accuracy: 0.7843 - val_loss: 0.4209\n",
      "Epoch 46/80\n",
      "\u001b[1m23/23\u001b[0m \u001b[32m━━━━━━━━━━━━━━━━━━━━\u001b[0m\u001b[37m\u001b[0m \u001b[1m6s\u001b[0m 146ms/step - accuracy: 0.8458 - loss: 0.3408 - val_accuracy: 0.7908 - val_loss: 0.4114\n",
      "Epoch 47/80\n",
      "\u001b[1m23/23\u001b[0m \u001b[32m━━━━━━━━━━━━━━━━━━━━\u001b[0m\u001b[37m\u001b[0m \u001b[1m5s\u001b[0m 148ms/step - accuracy: 0.8586 - loss: 0.3275 - val_accuracy: 0.8039 - val_loss: 0.4082\n",
      "Epoch 48/80\n",
      "\u001b[1m23/23\u001b[0m \u001b[32m━━━━━━━━━━━━━━━━━━━━\u001b[0m\u001b[37m\u001b[0m \u001b[1m5s\u001b[0m 146ms/step - accuracy: 0.8481 - loss: 0.3330 - val_accuracy: 0.7974 - val_loss: 0.4081\n",
      "Epoch 49/80\n",
      "\u001b[1m23/23\u001b[0m \u001b[32m━━━━━━━━━━━━━━━━━━━━\u001b[0m\u001b[37m\u001b[0m \u001b[1m5s\u001b[0m 128ms/step - accuracy: 0.8612 - loss: 0.3446 - val_accuracy: 0.8039 - val_loss: 0.4001\n",
      "Epoch 50/80\n",
      "\u001b[1m23/23\u001b[0m \u001b[32m━━━━━━━━━━━━━━━━━━━━\u001b[0m\u001b[37m\u001b[0m \u001b[1m5s\u001b[0m 131ms/step - accuracy: 0.8413 - loss: 0.3403 - val_accuracy: 0.8170 - val_loss: 0.3919\n",
      "Epoch 51/80\n",
      "\u001b[1m23/23\u001b[0m \u001b[32m━━━━━━━━━━━━━━━━━━━━\u001b[0m\u001b[37m\u001b[0m \u001b[1m3s\u001b[0m 123ms/step - accuracy: 0.8643 - loss: 0.3177 - val_accuracy: 0.8105 - val_loss: 0.3902\n",
      "Epoch 52/80\n",
      "\u001b[1m23/23\u001b[0m \u001b[32m━━━━━━━━━━━━━━━━━━━━\u001b[0m\u001b[37m\u001b[0m \u001b[1m5s\u001b[0m 129ms/step - accuracy: 0.8139 - loss: 0.3620 - val_accuracy: 0.8039 - val_loss: 0.3867\n",
      "Epoch 53/80\n",
      "\u001b[1m23/23\u001b[0m \u001b[32m━━━━━━━━━━━━━━━━━━━━\u001b[0m\u001b[37m\u001b[0m \u001b[1m5s\u001b[0m 127ms/step - accuracy: 0.8524 - loss: 0.3177 - val_accuracy: 0.7908 - val_loss: 0.3884\n",
      "Epoch 54/80\n",
      "\u001b[1m23/23\u001b[0m \u001b[32m━━━━━━━━━━━━━━━━━━━━\u001b[0m\u001b[37m\u001b[0m \u001b[1m5s\u001b[0m 121ms/step - accuracy: 0.8514 - loss: 0.3301 - val_accuracy: 0.8170 - val_loss: 0.3743\n",
      "Epoch 55/80\n",
      "\u001b[1m23/23\u001b[0m \u001b[32m━━━━━━━━━━━━━━━━━━━━\u001b[0m\u001b[37m\u001b[0m \u001b[1m5s\u001b[0m 126ms/step - accuracy: 0.8662 - loss: 0.3274 - val_accuracy: 0.8105 - val_loss: 0.3720\n",
      "Epoch 56/80\n",
      "\u001b[1m23/23\u001b[0m \u001b[32m━━━━━━━━━━━━━━━━━━━━\u001b[0m\u001b[37m\u001b[0m \u001b[1m5s\u001b[0m 123ms/step - accuracy: 0.8881 - loss: 0.2821 - val_accuracy: 0.8039 - val_loss: 0.3692\n",
      "Epoch 57/80\n",
      "\u001b[1m23/23\u001b[0m \u001b[32m━━━━━━━━━━━━━━━━━━━━\u001b[0m\u001b[37m\u001b[0m \u001b[1m3s\u001b[0m 125ms/step - accuracy: 0.8686 - loss: 0.3191 - val_accuracy: 0.8105 - val_loss: 0.3677\n",
      "Epoch 58/80\n",
      "\u001b[1m23/23\u001b[0m \u001b[32m━━━━━━━━━━━━━━━━━━━━\u001b[0m\u001b[37m\u001b[0m \u001b[1m3s\u001b[0m 135ms/step - accuracy: 0.8560 - loss: 0.3383 - val_accuracy: 0.8170 - val_loss: 0.3636\n",
      "Epoch 59/80\n",
      "\u001b[1m23/23\u001b[0m \u001b[32m━━━━━━━━━━━━━━━━━━━━\u001b[0m\u001b[37m\u001b[0m \u001b[1m6s\u001b[0m 160ms/step - accuracy: 0.8797 - loss: 0.3052 - val_accuracy: 0.8366 - val_loss: 0.3538\n",
      "Epoch 60/80\n",
      "\u001b[1m23/23\u001b[0m \u001b[32m━━━━━━━━━━━━━━━━━━━━\u001b[0m\u001b[37m\u001b[0m \u001b[1m5s\u001b[0m 154ms/step - accuracy: 0.8766 - loss: 0.3091 - val_accuracy: 0.8105 - val_loss: 0.3506\n",
      "Epoch 61/80\n",
      "\u001b[1m23/23\u001b[0m \u001b[32m━━━━━━━━━━━━━━━━━━━━\u001b[0m\u001b[37m\u001b[0m \u001b[1m5s\u001b[0m 157ms/step - accuracy: 0.8761 - loss: 0.2881 - val_accuracy: 0.8431 - val_loss: 0.3495\n",
      "Epoch 62/80\n",
      "\u001b[1m23/23\u001b[0m \u001b[32m━━━━━━━━━━━━━━━━━━━━\u001b[0m\u001b[37m\u001b[0m \u001b[1m5s\u001b[0m 155ms/step - accuracy: 0.8896 - loss: 0.2836 - val_accuracy: 0.8366 - val_loss: 0.3405\n",
      "Epoch 63/80\n",
      "\u001b[1m23/23\u001b[0m \u001b[32m━━━━━━━━━━━━━━━━━━━━\u001b[0m\u001b[37m\u001b[0m \u001b[1m5s\u001b[0m 160ms/step - accuracy: 0.8679 - loss: 0.3091 - val_accuracy: 0.8301 - val_loss: 0.3462\n",
      "Epoch 64/80\n",
      "\u001b[1m23/23\u001b[0m \u001b[32m━━━━━━━━━━━━━━━━━━━━\u001b[0m\u001b[37m\u001b[0m \u001b[1m5s\u001b[0m 164ms/step - accuracy: 0.8851 - loss: 0.2810 - val_accuracy: 0.8301 - val_loss: 0.3335\n",
      "Epoch 65/80\n",
      "\u001b[1m23/23\u001b[0m \u001b[32m━━━━━━━━━━━━━━━━━━━━\u001b[0m\u001b[37m\u001b[0m \u001b[1m5s\u001b[0m 136ms/step - accuracy: 0.8809 - loss: 0.2803 - val_accuracy: 0.8497 - val_loss: 0.3378\n",
      "Epoch 66/80\n",
      "\u001b[1m23/23\u001b[0m \u001b[32m━━━━━━━━━━━━━━━━━━━━\u001b[0m\u001b[37m\u001b[0m \u001b[1m5s\u001b[0m 137ms/step - accuracy: 0.8943 - loss: 0.2667 - val_accuracy: 0.8431 - val_loss: 0.3239\n",
      "Epoch 67/80\n",
      "\u001b[1m23/23\u001b[0m \u001b[32m━━━━━━━━━━━━━━━━━━━━\u001b[0m\u001b[37m\u001b[0m \u001b[1m5s\u001b[0m 134ms/step - accuracy: 0.8985 - loss: 0.2648 - val_accuracy: 0.8497 - val_loss: 0.3219\n",
      "Epoch 68/80\n",
      "\u001b[1m23/23\u001b[0m \u001b[32m━━━━━━━━━━━━━━━━━━━━\u001b[0m\u001b[37m\u001b[0m \u001b[1m5s\u001b[0m 141ms/step - accuracy: 0.9005 - loss: 0.2582 - val_accuracy: 0.8693 - val_loss: 0.3200\n",
      "Epoch 69/80\n",
      "\u001b[1m23/23\u001b[0m \u001b[32m━━━━━━━━━━━━━━━━━━━━\u001b[0m\u001b[37m\u001b[0m \u001b[1m5s\u001b[0m 131ms/step - accuracy: 0.8855 - loss: 0.2720 - val_accuracy: 0.8562 - val_loss: 0.3173\n",
      "Epoch 70/80\n",
      "\u001b[1m23/23\u001b[0m \u001b[32m━━━━━━━━━━━━━━━━━━━━\u001b[0m\u001b[37m\u001b[0m \u001b[1m6s\u001b[0m 158ms/step - accuracy: 0.9008 - loss: 0.2313 - val_accuracy: 0.8627 - val_loss: 0.3161\n",
      "Epoch 71/80\n",
      "\u001b[1m23/23\u001b[0m \u001b[32m━━━━━━━━━━━━━━━━━━━━\u001b[0m\u001b[37m\u001b[0m \u001b[1m5s\u001b[0m 148ms/step - accuracy: 0.9020 - loss: 0.2414 - val_accuracy: 0.8758 - val_loss: 0.3068\n",
      "Epoch 72/80\n",
      "\u001b[1m23/23\u001b[0m \u001b[32m━━━━━━━━━━━━━━━━━━━━\u001b[0m\u001b[37m\u001b[0m \u001b[1m6s\u001b[0m 164ms/step - accuracy: 0.9157 - loss: 0.2427 - val_accuracy: 0.8627 - val_loss: 0.3132\n",
      "Epoch 73/80\n",
      "\u001b[1m23/23\u001b[0m \u001b[32m━━━━━━━━━━━━━━━━━━━━\u001b[0m\u001b[37m\u001b[0m \u001b[1m4s\u001b[0m 167ms/step - accuracy: 0.9274 - loss: 0.2173 - val_accuracy: 0.8693 - val_loss: 0.3000\n",
      "Epoch 74/80\n",
      "\u001b[1m23/23\u001b[0m \u001b[32m━━━━━━━━━━━━━━━━━━━━\u001b[0m\u001b[37m\u001b[0m \u001b[1m5s\u001b[0m 143ms/step - accuracy: 0.9232 - loss: 0.2209 - val_accuracy: 0.8627 - val_loss: 0.3008\n",
      "Epoch 75/80\n",
      "\u001b[1m23/23\u001b[0m \u001b[32m━━━━━━━━━━━━━━━━━━━━\u001b[0m\u001b[37m\u001b[0m \u001b[1m5s\u001b[0m 135ms/step - accuracy: 0.9234 - loss: 0.2429 - val_accuracy: 0.8758 - val_loss: 0.2957\n",
      "Epoch 76/80\n",
      "\u001b[1m23/23\u001b[0m \u001b[32m━━━━━━━━━━━━━━━━━━━━\u001b[0m\u001b[37m\u001b[0m \u001b[1m3s\u001b[0m 138ms/step - accuracy: 0.9156 - loss: 0.2216 - val_accuracy: 0.8889 - val_loss: 0.2960\n",
      "Epoch 77/80\n",
      "\u001b[1m23/23\u001b[0m \u001b[32m━━━━━━━━━━━━━━━━━━━━\u001b[0m\u001b[37m\u001b[0m \u001b[1m3s\u001b[0m 148ms/step - accuracy: 0.9140 - loss: 0.2218 - val_accuracy: 0.8824 - val_loss: 0.2827\n",
      "Epoch 78/80\n",
      "\u001b[1m23/23\u001b[0m \u001b[32m━━━━━━━━━━━━━━━━━━━━\u001b[0m\u001b[37m\u001b[0m \u001b[1m5s\u001b[0m 134ms/step - accuracy: 0.9046 - loss: 0.2358 - val_accuracy: 0.8693 - val_loss: 0.2858\n",
      "Epoch 79/80\n",
      "\u001b[1m23/23\u001b[0m \u001b[32m━━━━━━━━━━━━━━━━━━━━\u001b[0m\u001b[37m\u001b[0m \u001b[1m3s\u001b[0m 138ms/step - accuracy: 0.9140 - loss: 0.2196 - val_accuracy: 0.8824 - val_loss: 0.2745\n",
      "Epoch 80/80\n",
      "\u001b[1m23/23\u001b[0m \u001b[32m━━━━━━━━━━━━━━━━━━━━\u001b[0m\u001b[37m\u001b[0m \u001b[1m3s\u001b[0m 126ms/step - accuracy: 0.9251 - loss: 0.1916 - val_accuracy: 0.8627 - val_loss: 0.2761\n"
     ]
    }
   ],
   "source": [
    "# Train the model\n",
    "history1 = model1.fit(X_train_resampled, y_train_resampled, epochs=80, validation_data=(X_val1, y_val1), batch_size=32,\n",
    "                      class_weight={0: class_weights[0], 1: class_weights[1]})"
   ]
  },
  {
   "cell_type": "markdown",
   "id": "6e749c50",
   "metadata": {},
   "source": [
    "# Evaluate the model on validation data"
   ]
  },
  {
   "cell_type": "code",
   "execution_count": 46,
   "id": "b3c46626",
   "metadata": {},
   "outputs": [
    {
     "name": "stdout",
     "output_type": "stream",
     "text": [
      "\u001b[1m5/5\u001b[0m \u001b[32m━━━━━━━━━━━━━━━━━━━━\u001b[0m\u001b[37m\u001b[0m \u001b[1m0s\u001b[0m 40ms/step - accuracy: 0.8718 - loss: 0.2299\n"
     ]
    },
    {
     "data": {
      "text/plain": [
       "[0.27612221240997314, 0.8627451062202454]"
      ]
     },
     "execution_count": 46,
     "metadata": {},
     "output_type": "execute_result"
    }
   ],
   "source": [
    "# Evaluate the model\n",
    "model1.evaluate(X_val1, y_val1)"
   ]
  },
  {
   "cell_type": "code",
   "execution_count": 47,
   "id": "dce26de8",
   "metadata": {},
   "outputs": [
    {
     "name": "stdout",
     "output_type": "stream",
     "text": [
      "\u001b[1m23/23\u001b[0m \u001b[32m━━━━━━━━━━━━━━━━━━━━\u001b[0m\u001b[37m\u001b[0m \u001b[1m1s\u001b[0m 47ms/step - accuracy: 0.9174 - loss: 0.2089\n"
     ]
    },
    {
     "data": {
      "text/plain": [
       "[0.20372611284255981, 0.9241573214530945]"
      ]
     },
     "execution_count": 47,
     "metadata": {},
     "output_type": "execute_result"
    }
   ],
   "source": [
    "model1.evaluate(X_train1, y_train1)"
   ]
  },
  {
   "cell_type": "markdown",
   "id": "12798821",
   "metadata": {},
   "source": [
    "## Insights:\n",
    "- The validation as well as training accuracy has improved drastically by tunning the model using many approaches and handling underfitting.\n",
    "- The loss has also reduced so it is a optimal model as the performance is not increasing beyond"
   ]
  },
  {
   "cell_type": "markdown",
   "id": "312805bd",
   "metadata": {},
   "source": [
    "# Training & Validation Loss plotted against number of Epochs"
   ]
  },
  {
   "cell_type": "code",
   "execution_count": 48,
   "id": "b1f1c498",
   "metadata": {},
   "outputs": [
    {
     "data": {
      "image/png": "[encoded data removed]",
      "text/plain": [
       "<Figure size 1000x800 with 1 Axes>"
      ]
     },
     "metadata": {},
     "output_type": "display_data"
    }
   ],
   "source": [
    "N1= np.arange(0,80)\n",
    "plt.style.use('ggplot')\n",
    "plt.figure(figsize=(10,8))\n",
    "plt.plot(N1,history1.history['loss'],label='train_loss')\n",
    "plt.plot(N1,history1.history['val_loss'],label='val_loss')\n",
    "plt.title('ANN: Training and Validation Loss')\n",
    "plt.xlabel('Epoch #',weight='bold')\n",
    "plt.ylabel('Loss',weight='bold')\n",
    "plt.legend()\n",
    "plt.show()"
   ]
  },
  {
   "cell_type": "markdown",
   "id": "6cb7902f",
   "metadata": {},
   "source": [
    "## Insights: \n",
    "- Both the train and validation loss are decreasing with the increasing number of Epochs which is a good model.\n",
    "- Both the lines are nearby and have less fluctuations"
   ]
  },
  {
   "cell_type": "markdown",
   "id": "cfd1cb88",
   "metadata": {},
   "source": [
    "# Training & Validation Accuracy plotted against number of Epochs"
   ]
  },
  {
   "cell_type": "code",
   "execution_count": 49,
   "id": "dcc8ab88",
   "metadata": {},
   "outputs": [
    {
     "data": {
      "image/png": "[encoded data removed]",
      "text/plain": [
       "<Figure size 1000x800 with 1 Axes>"
      ]
     },
     "metadata": {},
     "output_type": "display_data"
    }
   ],
   "source": [
    "N1= np.arange(0,80)\n",
    "plt.style.use('ggplot')\n",
    "plt.figure(figsize=(10,8))\n",
    "plt.plot(N1,history1.history['accuracy'],label='train_acc')\n",
    "plt.plot(N1,history1.history['val_accuracy'],label='val_acc')\n",
    "plt.title('ANN: Training and Validation Accuracy')\n",
    "plt.xlabel('Epoch #',weight='bold')\n",
    "plt.ylabel('Accuracy',weight='bold')\n",
    "plt.legend()\n",
    "plt.show()"
   ]
  },
  {
   "cell_type": "markdown",
   "id": "84bb4b3e",
   "metadata": {},
   "source": [
    "## Insights: \n",
    "- Both the train and validation accuracy are increasing with the increasing number of Epochs which is a good model.\n",
    "- Both the lines are nearby and have less fluctuations"
   ]
  },
  {
   "cell_type": "markdown",
   "id": "9a8db920",
   "metadata": {},
   "source": [
    "# Evaluate the model on test data (unseen data)"
   ]
  },
  {
   "cell_type": "code",
   "execution_count": 50,
   "id": "9df3a0e0",
   "metadata": {},
   "outputs": [
    {
     "name": "stdout",
     "output_type": "stream",
     "text": [
      "\u001b[1m5/5\u001b[0m \u001b[32m━━━━━━━━━━━━━━━━━━━━\u001b[0m\u001b[37m\u001b[0m \u001b[1m0s\u001b[0m 61ms/step\n"
     ]
    }
   ],
   "source": [
    "y_pred1= model1.predict(X_test1)"
   ]
  },
  {
   "cell_type": "code",
   "execution_count": 51,
   "id": "6ef85521",
   "metadata": {},
   "outputs": [
    {
     "data": {
      "text/plain": [
       "array([[9.38720882e-01],\n",
       "       [5.98470211e-01],\n",
       "       [7.47031093e-01],\n",
       "       [9.73179221e-01],\n",
       "       [7.22836819e-04],\n",
       "       [9.55300212e-01],\n",
       "       [9.14008081e-01],\n",
       "       [5.76413512e-01],\n",
       "       [8.29634955e-05],\n",
       "       [7.14734793e-01],\n",
       "       [9.41010475e-01],\n",
       "       [9.73499417e-01],\n",
       "       [9.11738053e-02],\n",
       "       [5.18859863e-01],\n",
       "       [2.37365440e-01],\n",
       "       [6.01889372e-01],\n",
       "       [9.21104789e-01],\n",
       "       [9.67581809e-01],\n",
       "       [9.69368696e-01],\n",
       "       [9.26649570e-01],\n",
       "       [6.77517772e-01],\n",
       "       [2.82190554e-02],\n",
       "       [2.69861251e-01],\n",
       "       [7.24570394e-01],\n",
       "       [8.94656837e-01],\n",
       "       [9.42157984e-01],\n",
       "       [1.66346226e-02],\n",
       "       [1.47252068e-01],\n",
       "       [3.52650195e-01],\n",
       "       [6.79542936e-05],\n",
       "       [9.46022153e-01],\n",
       "       [8.71015549e-01],\n",
       "       [2.07830351e-04],\n",
       "       [9.96497631e-01],\n",
       "       [2.02685326e-01],\n",
       "       [9.69677627e-01],\n",
       "       [3.95425618e-01],\n",
       "       [7.45410144e-01],\n",
       "       [1.17999896e-01],\n",
       "       [9.16539669e-01],\n",
       "       [5.19583555e-05],\n",
       "       [9.51183677e-01],\n",
       "       [1.69145148e-02],\n",
       "       [2.71134943e-01],\n",
       "       [9.56826508e-01],\n",
       "       [5.29444456e-01],\n",
       "       [9.51207757e-01],\n",
       "       [9.61395860e-01],\n",
       "       [9.85085130e-01],\n",
       "       [5.39484203e-01],\n",
       "       [8.63841832e-01],\n",
       "       [5.33651225e-02],\n",
       "       [9.72444117e-01],\n",
       "       [5.64109087e-01],\n",
       "       [7.39207745e-01],\n",
       "       [9.70025361e-01],\n",
       "       [2.51359612e-01],\n",
       "       [9.71106589e-01],\n",
       "       [9.28084195e-01],\n",
       "       [9.51355457e-01],\n",
       "       [7.27113686e-04],\n",
       "       [9.82566953e-01],\n",
       "       [9.19292390e-01],\n",
       "       [3.50549963e-05],\n",
       "       [9.54807580e-01],\n",
       "       [6.97606895e-03],\n",
       "       [4.40470502e-02],\n",
       "       [4.26202938e-02],\n",
       "       [3.60166159e-04],\n",
       "       [8.55124116e-01],\n",
       "       [9.13859010e-01],\n",
       "       [4.35790271e-02],\n",
       "       [8.45597029e-01],\n",
       "       [1.65341690e-01],\n",
       "       [9.55755234e-01],\n",
       "       [9.82274652e-01],\n",
       "       [9.69630957e-01],\n",
       "       [3.01621240e-02],\n",
       "       [1.95503049e-03],\n",
       "       [9.38519418e-01],\n",
       "       [9.68330026e-01],\n",
       "       [1.27723106e-04],\n",
       "       [2.22174581e-02],\n",
       "       [7.64939368e-01],\n",
       "       [1.16419448e-02],\n",
       "       [9.68575120e-01],\n",
       "       [9.82697308e-01],\n",
       "       [6.46727324e-01],\n",
       "       [1.16348026e-04],\n",
       "       [5.54693580e-01],\n",
       "       [9.43130136e-01],\n",
       "       [2.02560164e-02],\n",
       "       [2.44626738e-02],\n",
       "       [5.83781421e-01],\n",
       "       [9.62733686e-01],\n",
       "       [1.59310468e-04],\n",
       "       [7.90270209e-01],\n",
       "       [2.48717234e-01],\n",
       "       [6.31899163e-02],\n",
       "       [9.66001332e-01],\n",
       "       [4.24773572e-03],\n",
       "       [9.54802930e-01],\n",
       "       [9.48553026e-01],\n",
       "       [9.39962387e-01],\n",
       "       [7.93777764e-01],\n",
       "       [4.31101829e-01],\n",
       "       [4.64810058e-03],\n",
       "       [7.16827735e-02],\n",
       "       [5.67828774e-01],\n",
       "       [9.75285947e-01],\n",
       "       [6.14325285e-01],\n",
       "       [7.40857482e-01],\n",
       "       [2.69429618e-03],\n",
       "       [1.10797964e-01],\n",
       "       [8.58151913e-01],\n",
       "       [3.41145135e-02],\n",
       "       [8.30998063e-01],\n",
       "       [1.23243907e-03],\n",
       "       [1.06747495e-04],\n",
       "       [5.08296527e-02],\n",
       "       [8.54856509e-04],\n",
       "       [1.37971547e-05],\n",
       "       [9.71386671e-01],\n",
       "       [3.25293869e-01],\n",
       "       [8.94631505e-01],\n",
       "       [5.84580284e-03],\n",
       "       [9.50360537e-01],\n",
       "       [9.69259977e-01],\n",
       "       [6.48860633e-01],\n",
       "       [3.54778022e-01],\n",
       "       [8.67286921e-01],\n",
       "       [9.44148540e-01],\n",
       "       [2.79872686e-01],\n",
       "       [3.02507571e-04],\n",
       "       [8.59276056e-01],\n",
       "       [9.56433713e-01],\n",
       "       [1.64463967e-01],\n",
       "       [7.89991081e-01],\n",
       "       [3.73535633e-01],\n",
       "       [3.56988788e-01],\n",
       "       [5.19387359e-05],\n",
       "       [7.48405695e-01],\n",
       "       [5.62950736e-04],\n",
       "       [9.45261180e-01],\n",
       "       [9.77888286e-01],\n",
       "       [9.58970606e-01],\n",
       "       [9.43130136e-01],\n",
       "       [1.06239655e-04],\n",
       "       [9.76764441e-01],\n",
       "       [1.36330754e-01],\n",
       "       [4.97000933e-01],\n",
       "       [9.53854382e-01],\n",
       "       [9.08684492e-01]], dtype=float32)"
      ]
     },
     "execution_count": 51,
     "metadata": {},
     "output_type": "execute_result"
    }
   ],
   "source": [
    "y_pred1"
   ]
  },
  {
   "cell_type": "code",
   "execution_count": 52,
   "id": "43a7cf6d",
   "metadata": {},
   "outputs": [],
   "source": [
    "from sklearn.metrics import confusion_matrix, classification_report,accuracy_score\n",
    "# Since the output is probabilistic, use a threshold to convert to binary (0 or 1)\n",
    "y_pred1 = np.round(y_pred1).astype(int)  # Convert to 0s and 1s based on a threshold of 0.5\n",
    "\n",
    "# 2. Generate the confusion matrix\n",
    "conf_matrix = confusion_matrix(y_test1, y_pred1)"
   ]
  },
  {
   "cell_type": "code",
   "execution_count": 53,
   "id": "b0b302b0",
   "metadata": {},
   "outputs": [
    {
     "name": "stdout",
     "output_type": "stream",
     "text": [
      "[[56 14]\n",
      " [ 7 76]]\n"
     ]
    }
   ],
   "source": [
    "print(conf_matrix)"
   ]
  },
  {
   "cell_type": "code",
   "execution_count": 54,
   "id": "1214df59",
   "metadata": {},
   "outputs": [
    {
     "name": "stdout",
     "output_type": "stream",
     "text": [
      "              precision    recall  f1-score   support\n",
      "\n",
      "           0       0.89      0.80      0.84        70\n",
      "           1       0.84      0.92      0.88        83\n",
      "\n",
      "    accuracy                           0.86       153\n",
      "   macro avg       0.87      0.86      0.86       153\n",
      "weighted avg       0.86      0.86      0.86       153\n",
      "\n",
      "Accuracy of the model:  0.8627450980392157\n"
     ]
    }
   ],
   "source": [
    "print(classification_report(y_test1,y_pred1))\n",
    " \n",
    "acc=accuracy_score(y_test1, y_pred1)\n",
    "print(\"Accuracy of the model: \",acc)"
   ]
  },
  {
   "cell_type": "markdown",
   "id": "53400eb3",
   "metadata": {},
   "source": [
    "## Insights:\n",
    "- The model performance has improved afte tunning approaches with a good recall in both the classes and a good accuracy of 84.96% \n",
    "- Thus the above tuned model name 'Model1' is the optimal model that can be used for live drowsiness alert."
   ]
  },
  {
   "cell_type": "code",
   "execution_count": 55,
   "id": "899ef49c",
   "metadata": {},
   "outputs": [
    {
     "name": "stdout",
     "output_type": "stream",
     "text": [
      "Unique values: [0 1]\n",
      "Counts: [509 509]\n"
     ]
    }
   ],
   "source": [
    "# Get unique values and their counts\n",
    "unique_values, counts = np.unique(y1, return_counts=True)\n",
    "\n",
    "# Print the results\n",
    "print(\"Unique values:\", unique_values)\n",
    "print(\"Counts:\", counts)"
   ]
  },
  {
   "cell_type": "code",
   "execution_count": null,
   "id": "60833cdf",
   "metadata": {},
   "outputs": [],
   "source": [
    "#equal class distribution in dataset for both classes"
   ]
  },
  {
   "cell_type": "code",
   "execution_count": 56,
   "id": "e754e0bd",
   "metadata": {},
   "outputs": [
    {
     "name": "stdout",
     "output_type": "stream",
     "text": [
      "Unique values: [0 1]\n",
      "Counts: [355 357]\n"
     ]
    }
   ],
   "source": [
    "# Get unique values and their counts\n",
    "unique_values, counts = np.unique(y_train1, return_counts=True)\n",
    "\n",
    "# Print the results\n",
    "print(\"Unique values:\", unique_values)\n",
    "print(\"Counts:\", counts)"
   ]
  },
  {
   "cell_type": "code",
   "execution_count": 57,
   "id": "520b9f24",
   "metadata": {},
   "outputs": [
    {
     "name": "stdout",
     "output_type": "stream",
     "text": [
      "Unique values: [0 1]\n",
      "Counts: [357 357]\n"
     ]
    }
   ],
   "source": [
    "# Get unique values and their counts\n",
    "unique_values, counts = np.unique(y_train_resampled, return_counts=True)\n",
    "\n",
    "# Print the results\n",
    "print(\"Unique values:\", unique_values)\n",
    "print(\"Counts:\", counts)"
   ]
  },
  {
   "cell_type": "markdown",
   "id": "67c166ac",
   "metadata": {},
   "source": [
    "# Save the model after training"
   ]
  },
  {
   "cell_type": "code",
   "execution_count": 58,
   "id": "7988ef06",
   "metadata": {},
   "outputs": [
    {
     "name": "stderr",
     "output_type": "stream",
     "text": [
      "WARNING:absl:You are saving your model as an HDF5 file via `model.save()` or `keras.saving.save_model(model)`. This file format is considered legacy. We recommend using instead the native Keras format, e.g. `model.save('my_model.keras')` or `keras.saving.save_model(model, 'my_model.keras')`. \n"
     ]
    }
   ],
   "source": [
    "# Save the model after training\n",
    "model1.save('drowsiness_detection_model.h5')"
   ]
  },
  {
   "cell_type": "markdown",
   "id": "81dd7e57",
   "metadata": {},
   "source": [
    "### Model building completed and saved\n",
    "### Real Time Drowsiness Alert using Webcam is on file 2"
   ]
  }
 ],
 "metadata": {
  "kernelspec": {
   "display_name": "Python 3 (ipykernel)",
   "language": "python",
   "name": "python3"
  },
  "language_info": {
   "codemirror_mode": {
    "name": "ipython",
    "version": 3
   },
   "file_extension": ".py",
   "mimetype": "text/x-python",
   "name": "python",
   "nbconvert_exporter": "python",
   "pygments_lexer": "ipython3",
   "version": "3.11.7"
  }
 },
 "nbformat": 4,
 "nbformat_minor": 5
}
